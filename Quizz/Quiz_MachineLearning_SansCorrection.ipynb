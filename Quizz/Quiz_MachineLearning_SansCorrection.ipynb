{
 "cells": [
  {
   "cell_type": "markdown",
   "id": "ce8b1b1d",
   "metadata": {},
   "source": [
    "\n",
    "# Quiz – Évaluation des connaissances en Machine Learning (Python)\n",
    "\n",
    "Ce quiz vous permet de tester vos connaissances sur les concepts, outils et étapes d’un projet de Machine Learning avec Python.\n",
    "\n",
    "✏️ **Répondez dans les cellules prévues. Aucune correction automatique ici : vous devrez discuter vos réponses en groupe ou avec l'enseignant.**\n",
    "\n",
    "---\n"
   ]
  },
  {
   "cell_type": "markdown",
   "id": "ae7908eb",
   "metadata": {},
   "source": [
    "## 1. À quoi sert la fonction `train_test_split()` ?"
   ]
  },
  {
   "cell_type": "code",
   "execution_count": null,
   "id": "2da8f62d",
   "metadata": {},
   "outputs": [],
   "source": [
    "\n",
    "# Votre réponse ici :\n"
   ]
  },
  {
   "cell_type": "markdown",
   "id": "411a0df1",
   "metadata": {},
   "source": [
    "## 2. Quelle fonction permet de visualiser la corrélation entre plusieurs variables ?"
   ]
  },
  {
   "cell_type": "code",
   "execution_count": null,
   "id": "90dc4116",
   "metadata": {},
   "outputs": [],
   "source": [
    "\n",
    "# Votre réponse ici :\n"
   ]
  },
  {
   "cell_type": "markdown",
   "id": "e952ddd1",
   "metadata": {},
   "source": [
    "## 3. Nommez deux fonctions utiles pour explorer un DataFrame pandas."
   ]
  },
  {
   "cell_type": "code",
   "execution_count": null,
   "id": "53cf089a",
   "metadata": {},
   "outputs": [],
   "source": [
    "\n",
    "# Votre réponse ici :\n"
   ]
  },
  {
   "cell_type": "markdown",
   "id": "d5a67d11",
   "metadata": {},
   "source": [
    "## 4. Pourquoi standardise-t-on les données ? Quelle fonction permet de le faire ?"
   ]
  },
  {
   "cell_type": "code",
   "execution_count": null,
   "id": "a9ce9507",
   "metadata": {},
   "outputs": [],
   "source": [
    "\n",
    "# Votre réponse ici :\n"
   ]
  },
  {
   "cell_type": "markdown",
   "id": "889639be",
   "metadata": {},
   "source": [
    "## 5. Complétez les étapes du pipeline d’un projet de Machine Learning dans l’ordre logique."
   ]
  },
  {
   "cell_type": "code",
   "execution_count": null,
   "id": "d5607a8c",
   "metadata": {},
   "outputs": [],
   "source": [
    "\n",
    "# Étapes du pipeline :\n",
    "# 1.\n",
    "# 2.\n",
    "# 3.\n",
    "# 4.\n",
    "# 5.\n",
    "# 6.\n"
   ]
  },
  {
   "cell_type": "markdown",
   "id": "a86d841f",
   "metadata": {},
   "source": [
    "## 6. Expliquez ce que signifie chacune de ces métriques :\n",
    "- Accuracy\n",
    "- Precision\n",
    "- Recall\n",
    "- F1-score"
   ]
  },
  {
   "cell_type": "code",
   "execution_count": null,
   "id": "32e03f8b",
   "metadata": {},
   "outputs": [],
   "source": [
    "\n",
    "# Votre réponse ici :\n"
   ]
  },
  {
   "cell_type": "markdown",
   "id": "7a060461",
   "metadata": {},
   "source": [
    "## 7. À quoi sert une matrice de confusion ? Donnez un exemple de lecture."
   ]
  },
  {
   "cell_type": "code",
   "execution_count": null,
   "id": "78745ab2",
   "metadata": {},
   "outputs": [],
   "source": [
    "\n",
    "# Votre réponse ici :\n"
   ]
  },
  {
   "cell_type": "markdown",
   "id": "744fb5dc",
   "metadata": {},
   "source": [
    "## 8. À quoi sert la fonction `fit()` dans un modèle sklearn ?"
   ]
  },
  {
   "cell_type": "code",
   "execution_count": null,
   "id": "c37273d9",
   "metadata": {},
   "outputs": [],
   "source": [
    "\n",
    "# Votre réponse ici :\n"
   ]
  },
  {
   "cell_type": "markdown",
   "id": "d440b12f",
   "metadata": {},
   "source": [
    "## 9. Quelle fonction utilisez-vous pour mesurer la performance du modèle ?"
   ]
  },
  {
   "cell_type": "code",
   "execution_count": null,
   "id": "cbf6e8a4",
   "metadata": {},
   "outputs": [],
   "source": [
    "\n",
    "# Votre réponse ici :\n"
   ]
  },
  {
   "cell_type": "markdown",
   "id": "d77e17fb",
   "metadata": {},
   "source": [
    "## 10. Citez trois modèles de classification disponibles dans scikit-learn."
   ]
  },
  {
   "cell_type": "code",
   "execution_count": null,
   "id": "d3360f94",
   "metadata": {},
   "outputs": [],
   "source": [
    "\n",
    "# Votre réponse ici :\n"
   ]
  }
 ],
 "metadata": {},
 "nbformat": 4,
 "nbformat_minor": 5
}
