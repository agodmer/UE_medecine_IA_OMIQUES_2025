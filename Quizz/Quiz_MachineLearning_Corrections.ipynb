{
 "cells": [
  {
   "cell_type": "markdown",
   "id": "34d5f74f",
   "metadata": {},
   "source": [
    "\n",
    "# Corrections – Quiz Machine Learning (Python)\n",
    "\n",
    "Voici les réponses aux questions du quiz. Elles sont proposées comme base de discussion et peuvent parfois varier selon les cas.\n",
    "\n",
    "---\n"
   ]
  },
  {
   "cell_type": "markdown",
   "id": "29a79dfb",
   "metadata": {},
   "source": [
    "## 1. À quoi sert la fonction `train_test_split()` ?"
   ]
  },
  {
   "cell_type": "code",
   "execution_count": null,
   "id": "644cb1be",
   "metadata": {},
   "outputs": [],
   "source": [
    "\n",
    "# Elle permet de diviser le jeu de données en deux parties :\n",
    "# - un ensemble d'entraînement (train) utilisé pour apprendre\n",
    "# - un ensemble de test (test) utilisé pour évaluer les performances du modèle\n"
   ]
  },
  {
   "cell_type": "markdown",
   "id": "575b8990",
   "metadata": {},
   "source": [
    "## 2. Quelle fonction permet de visualiser la corrélation entre plusieurs variables ?"
   ]
  },
  {
   "cell_type": "code",
   "execution_count": null,
   "id": "c7725b29",
   "metadata": {},
   "outputs": [],
   "source": [
    "\n",
    "# La fonction `sns.heatmap(df.corr(), annot=True)` permet de visualiser la matrice de corrélation.\n"
   ]
  },
  {
   "cell_type": "markdown",
   "id": "a659cfaf",
   "metadata": {},
   "source": [
    "## 3. Nommez deux fonctions utiles pour explorer un DataFrame pandas."
   ]
  },
  {
   "cell_type": "code",
   "execution_count": null,
   "id": "f1562c38",
   "metadata": {},
   "outputs": [],
   "source": [
    "\n",
    "# - df.info() : informations sur les colonnes, les types, les valeurs manquantes\n",
    "# - df.describe() : statistiques descriptives des colonnes numériques\n"
   ]
  },
  {
   "cell_type": "markdown",
   "id": "116d2d61",
   "metadata": {},
   "source": [
    "## 4. Pourquoi standardise-t-on les données ? Quelle fonction permet de le faire ?"
   ]
  },
  {
   "cell_type": "code",
   "execution_count": null,
   "id": "4c35d2a0",
   "metadata": {},
   "outputs": [],
   "source": [
    "\n",
    "# Pour que toutes les variables soient sur une même échelle (moyenne = 0, écart-type = 1).\n",
    "# Cela aide certains modèles à mieux converger.\n",
    "# Fonction utilisée : StandardScaler() de sklearn\n"
   ]
  },
  {
   "cell_type": "markdown",
   "id": "f9d00703",
   "metadata": {},
   "source": [
    "## 5. Complétez les étapes du pipeline d’un projet de Machine Learning."
   ]
  },
  {
   "cell_type": "code",
   "execution_count": null,
   "id": "7629441e",
   "metadata": {},
   "outputs": [],
   "source": [
    "\n",
    "# 1. Chargement des données\n",
    "# 2. Exploration des données\n",
    "# 3. Nettoyage et préparation\n",
    "# 4. Séparation train/test\n",
    "# 5. Standardisation\n",
    "# 6. Modélisation\n",
    "# 7. Évaluation\n",
    "# 8. Optimisation (optionnel)\n"
   ]
  },
  {
   "cell_type": "markdown",
   "id": "57b230f6",
   "metadata": {},
   "source": [
    "## 6. Expliquez ce que signifie chacune de ces métriques."
   ]
  },
  {
   "cell_type": "code",
   "execution_count": null,
   "id": "c71dbeb5",
   "metadata": {},
   "outputs": [],
   "source": [
    "\n",
    "# - Accuracy : pourcentage de bonnes prédictions sur l’ensemble du test\n",
    "# - Precision : parmi les éléments prédits comme positifs, combien le sont vraiment\n",
    "# - Recall : parmi les vrais positifs, combien sont détectés\n",
    "# - F1-score : moyenne harmonique de la précision et du rappel (équilibre entre les deux)\n"
   ]
  },
  {
   "cell_type": "markdown",
   "id": "4923df2b",
   "metadata": {},
   "source": [
    "## 7. À quoi sert une matrice de confusion ? Donnez un exemple de lecture."
   ]
  },
  {
   "cell_type": "code",
   "execution_count": null,
   "id": "7d00f486",
   "metadata": {},
   "outputs": [],
   "source": [
    "\n",
    "# Elle permet de visualiser les prédictions correctes ou incorrectes, en les comparant aux vraies valeurs.\n",
    "# Exemple : ligne = réalité, colonne = prédiction\n",
    "# Si on regarde la case [1,1], on voit combien de \"positifs\" ont été correctement prédits comme \"positifs\" (vrais positifs).\n"
   ]
  },
  {
   "cell_type": "markdown",
   "id": "e642efa9",
   "metadata": {},
   "source": [
    "## 8. À quoi sert la fonction `fit()` dans un modèle sklearn ?"
   ]
  },
  {
   "cell_type": "code",
   "execution_count": null,
   "id": "5e5758c7",
   "metadata": {},
   "outputs": [],
   "source": [
    "\n",
    "# La fonction `fit()` entraîne (ou ajuste) le modèle sur les données d’entraînement.\n"
   ]
  },
  {
   "cell_type": "markdown",
   "id": "5aba850a",
   "metadata": {},
   "source": [
    "## 9. Quelle fonction utilisez-vous pour mesurer la performance du modèle ?"
   ]
  },
  {
   "cell_type": "code",
   "execution_count": null,
   "id": "899f152d",
   "metadata": {},
   "outputs": [],
   "source": [
    "\n",
    "# La plus classique est `accuracy_score(y_test, y_pred)`\n",
    "# D’autres incluent : `classification_report`, `confusion_matrix`\n"
   ]
  },
  {
   "cell_type": "markdown",
   "id": "4df1400c",
   "metadata": {},
   "source": [
    "## 10. Citez trois modèles de classification disponibles dans scikit-learn."
   ]
  },
  {
   "cell_type": "code",
   "execution_count": null,
   "id": "e8971aad",
   "metadata": {},
   "outputs": [],
   "source": [
    "\n",
    "# - RandomForestClassifier()\n",
    "# - LogisticRegression()\n",
    "# - KNeighborsClassifier()\n",
    "# - MLPClassifier()  # Réseau de neurones simple\n"
   ]
  }
 ],
 "metadata": {},
 "nbformat": 4,
 "nbformat_minor": 5
}
