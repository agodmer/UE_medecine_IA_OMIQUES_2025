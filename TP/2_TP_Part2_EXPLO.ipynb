{
  "cells": [
    {
      "cell_type": "markdown",
      "id": "0a40206e",
      "metadata": {
        "id": "0a40206e"
      },
      "source": [
        "# 🧪 Python & Data Science – Premiers pas pour comprendre et explorer des données"
      ]
    },
    {
      "cell_type": "markdown",
      "id": "e3c18361",
      "metadata": {
        "id": "e3c18361"
      },
      "source": [
        "\n",
        "Bienvenue dans ce notebook ! Ce cours interactif est conçu pour des **étudiants débutants** qui n'ont **jamais programmé**.\n",
        "\n",
        " Objectif : comprendre **les bases de Python** et apprendre à **explorer des données** avec des outils simples mais puissants.\n",
        "\n",
        "---\n",
        "\n",
        "## 🧭 Plan du cours\n",
        "1. Qu’est-ce qu’une bibliothèque ? Une fonction ?  \n",
        "2. Les bases de Python (variables, types, listes)  \n",
        "3. Introduction aux bibliothèques utiles (`numpy`, `pandas`, `matplotlib`, `seaborn`)  \n",
        "4. Charger et explorer un jeu de données réel  \n",
        "5. Visualiser les données pour mieux les comprendre\n",
        "\n",
        "---\n"
      ]
    },
    {
      "cell_type": "markdown",
      "id": "db1d5d78",
      "metadata": {
        "id": "db1d5d78"
      },
      "source": [
        "##  1. Qu’est-ce qu’une bibliothèque en Python ?"
      ]
    },
    {
      "cell_type": "markdown",
      "id": "c46a13bc",
      "metadata": {
        "id": "c46a13bc"
      },
      "source": [
        "\n",
        "Une **bibliothèque** (ou \"package\") est un ensemble de fonctions déjà prêtes à l’emploi.\n",
        "\n",
        " Par exemple : si vous voulez tracer un graphique, inutile de tout programmer vous-même !  \n",
        "Vous pouvez utiliser une bibliothèque comme `matplotlib` qui sait déjà le faire.\n",
        "\n",
        "On **importe** une bibliothèque avec le mot-clé `import` :\n"
      ]
    },
    {
      "cell_type": "code",
      "execution_count": 1,
      "id": "ec5b5b5c",
      "metadata": {
        "colab": {
          "base_uri": "https://localhost:8080/"
        },
        "id": "ec5b5b5c",
        "outputId": "fbb93e49-fbd5-4d8d-fc4b-3403750d5dc0"
      },
      "outputs": [
        {
          "output_type": "stream",
          "name": "stdout",
          "text": [
            "Racine carrée de 16 : 4.0\n"
          ]
        }
      ],
      "source": [
        "\n",
        "# Exemple : importer la bibliothèque mathématique de base\n",
        "import math\n",
        "\n",
        "# Utiliser une fonction de cette bibliothèque\n",
        "print(\"Racine carrée de 16 :\", math.sqrt(16))\n"
      ]
    },
    {
      "cell_type": "markdown",
      "id": "4caac2f3",
      "metadata": {
        "id": "4caac2f3"
      },
      "source": [
        "## 🧩 2. Qu’est-ce qu’une fonction ?"
      ]
    },
    {
      "cell_type": "markdown",
      "id": "d7ecd540",
      "metadata": {
        "id": "d7ecd540"
      },
      "source": [
        "\n",
        "Une **fonction** est une boîte qui prend des informations (appelées **arguments**) en entrée, fait un calcul, et renvoie un résultat.\n",
        "\n",
        "Exemple :\n"
      ]
    },
    {
      "cell_type": "code",
      "execution_count": 2,
      "id": "50cca036",
      "metadata": {
        "colab": {
          "base_uri": "https://localhost:8080/"
        },
        "id": "50cca036",
        "outputId": "a661161f-c2c7-4bbd-e6e0-571a1d2952d7"
      },
      "outputs": [
        {
          "output_type": "stream",
          "name": "stdout",
          "text": [
            "Bonjour Alice\n",
            "Bonjour David\n"
          ]
        }
      ],
      "source": [
        "\n",
        "def bonjour(nom):\n",
        "    print(\"Bonjour\", nom)\n",
        "\n",
        "bonjour(\"Alice\")\n",
        "bonjour(\"David\")\n"
      ]
    },
    {
      "cell_type": "markdown",
      "id": "e4523593",
      "metadata": {
        "id": "e4523593"
      },
      "source": [
        "##  3. Les bibliothèques utiles pour la Data Science"
      ]
    },
    {
      "cell_type": "markdown",
      "id": "09bf22d0",
      "metadata": {
        "id": "09bf22d0"
      },
      "source": [
        "\n",
        "Voici les bibliothèques les plus utilisées en science des données :\n",
        "- `numpy` : faire des calculs sur des tableaux de nombres\n",
        "- `pandas` : manipuler des **tableaux de données**\n",
        "- `matplotlib` et `seaborn` : faire des **graphiques**\n",
        "\n",
        "On les importe ainsi :\n"
      ]
    },
    {
      "cell_type": "code",
      "execution_count": 3,
      "id": "cdebe4df",
      "metadata": {
        "id": "cdebe4df"
      },
      "outputs": [],
      "source": [
        "\n",
        "import numpy as np\n",
        "import pandas as pd\n",
        "import matplotlib.pyplot as plt\n",
        "import seaborn as sns\n"
      ]
    },
    {
      "cell_type": "markdown",
      "id": "8a491223",
      "metadata": {
        "id": "8a491223"
      },
      "source": [
        "##  4. Charger un fichier de données (.csv)"
      ]
    },
    {
      "cell_type": "markdown",
      "id": "b7177b7a",
      "metadata": {
        "id": "b7177b7a"
      },
      "source": [
        "\n",
        "Nous allons utiliser un petit fichier réel : **iris.csv**.  \n",
        "Il contient des mesures de fleurs (longueur/largeur des pétales et des sépales).\n",
        "\n",
        "Chaque ligne = 1 fleur\n"
      ]
    },
    {
      "cell_type": "code",
      "execution_count": 4,
      "id": "2b532560",
      "metadata": {
        "colab": {
          "base_uri": "https://localhost:8080/",
          "height": 206
        },
        "id": "2b532560",
        "outputId": "e1b861eb-81c9-4bf8-e30e-67fa0635e6b4"
      },
      "outputs": [
        {
          "output_type": "execute_result",
          "data": {
            "text/plain": [
              "   sepal_length  sepal_width  petal_length  petal_width species\n",
              "0           5.1          3.5           1.4          0.2  setosa\n",
              "1           4.9          3.0           1.4          0.2  setosa\n",
              "2           4.7          3.2           1.3          0.2  setosa\n",
              "3           4.6          3.1           1.5          0.2  setosa\n",
              "4           5.0          3.6           1.4          0.2  setosa"
            ],
            "text/html": [
              "\n",
              "  <div id=\"df-af31f23f-f660-4aa7-b8c0-1fc4dac6e1d1\" class=\"colab-df-container\">\n",
              "    <div>\n",
              "<style scoped>\n",
              "    .dataframe tbody tr th:only-of-type {\n",
              "        vertical-align: middle;\n",
              "    }\n",
              "\n",
              "    .dataframe tbody tr th {\n",
              "        vertical-align: top;\n",
              "    }\n",
              "\n",
              "    .dataframe thead th {\n",
              "        text-align: right;\n",
              "    }\n",
              "</style>\n",
              "<table border=\"1\" class=\"dataframe\">\n",
              "  <thead>\n",
              "    <tr style=\"text-align: right;\">\n",
              "      <th></th>\n",
              "      <th>sepal_length</th>\n",
              "      <th>sepal_width</th>\n",
              "      <th>petal_length</th>\n",
              "      <th>petal_width</th>\n",
              "      <th>species</th>\n",
              "    </tr>\n",
              "  </thead>\n",
              "  <tbody>\n",
              "    <tr>\n",
              "      <th>0</th>\n",
              "      <td>5.1</td>\n",
              "      <td>3.5</td>\n",
              "      <td>1.4</td>\n",
              "      <td>0.2</td>\n",
              "      <td>setosa</td>\n",
              "    </tr>\n",
              "    <tr>\n",
              "      <th>1</th>\n",
              "      <td>4.9</td>\n",
              "      <td>3.0</td>\n",
              "      <td>1.4</td>\n",
              "      <td>0.2</td>\n",
              "      <td>setosa</td>\n",
              "    </tr>\n",
              "    <tr>\n",
              "      <th>2</th>\n",
              "      <td>4.7</td>\n",
              "      <td>3.2</td>\n",
              "      <td>1.3</td>\n",
              "      <td>0.2</td>\n",
              "      <td>setosa</td>\n",
              "    </tr>\n",
              "    <tr>\n",
              "      <th>3</th>\n",
              "      <td>4.6</td>\n",
              "      <td>3.1</td>\n",
              "      <td>1.5</td>\n",
              "      <td>0.2</td>\n",
              "      <td>setosa</td>\n",
              "    </tr>\n",
              "    <tr>\n",
              "      <th>4</th>\n",
              "      <td>5.0</td>\n",
              "      <td>3.6</td>\n",
              "      <td>1.4</td>\n",
              "      <td>0.2</td>\n",
              "      <td>setosa</td>\n",
              "    </tr>\n",
              "  </tbody>\n",
              "</table>\n",
              "</div>\n",
              "    <div class=\"colab-df-buttons\">\n",
              "\n",
              "  <div class=\"colab-df-container\">\n",
              "    <button class=\"colab-df-convert\" onclick=\"convertToInteractive('df-af31f23f-f660-4aa7-b8c0-1fc4dac6e1d1')\"\n",
              "            title=\"Convert this dataframe to an interactive table.\"\n",
              "            style=\"display:none;\">\n",
              "\n",
              "  <svg xmlns=\"http://www.w3.org/2000/svg\" height=\"24px\" viewBox=\"0 -960 960 960\">\n",
              "    <path d=\"M120-120v-720h720v720H120Zm60-500h600v-160H180v160Zm220 220h160v-160H400v160Zm0 220h160v-160H400v160ZM180-400h160v-160H180v160Zm440 0h160v-160H620v160ZM180-180h160v-160H180v160Zm440 0h160v-160H620v160Z\"/>\n",
              "  </svg>\n",
              "    </button>\n",
              "\n",
              "  <style>\n",
              "    .colab-df-container {\n",
              "      display:flex;\n",
              "      gap: 12px;\n",
              "    }\n",
              "\n",
              "    .colab-df-convert {\n",
              "      background-color: #E8F0FE;\n",
              "      border: none;\n",
              "      border-radius: 50%;\n",
              "      cursor: pointer;\n",
              "      display: none;\n",
              "      fill: #1967D2;\n",
              "      height: 32px;\n",
              "      padding: 0 0 0 0;\n",
              "      width: 32px;\n",
              "    }\n",
              "\n",
              "    .colab-df-convert:hover {\n",
              "      background-color: #E2EBFA;\n",
              "      box-shadow: 0px 1px 2px rgba(60, 64, 67, 0.3), 0px 1px 3px 1px rgba(60, 64, 67, 0.15);\n",
              "      fill: #174EA6;\n",
              "    }\n",
              "\n",
              "    .colab-df-buttons div {\n",
              "      margin-bottom: 4px;\n",
              "    }\n",
              "\n",
              "    [theme=dark] .colab-df-convert {\n",
              "      background-color: #3B4455;\n",
              "      fill: #D2E3FC;\n",
              "    }\n",
              "\n",
              "    [theme=dark] .colab-df-convert:hover {\n",
              "      background-color: #434B5C;\n",
              "      box-shadow: 0px 1px 3px 1px rgba(0, 0, 0, 0.15);\n",
              "      filter: drop-shadow(0px 1px 2px rgba(0, 0, 0, 0.3));\n",
              "      fill: #FFFFFF;\n",
              "    }\n",
              "  </style>\n",
              "\n",
              "    <script>\n",
              "      const buttonEl =\n",
              "        document.querySelector('#df-af31f23f-f660-4aa7-b8c0-1fc4dac6e1d1 button.colab-df-convert');\n",
              "      buttonEl.style.display =\n",
              "        google.colab.kernel.accessAllowed ? 'block' : 'none';\n",
              "\n",
              "      async function convertToInteractive(key) {\n",
              "        const element = document.querySelector('#df-af31f23f-f660-4aa7-b8c0-1fc4dac6e1d1');\n",
              "        const dataTable =\n",
              "          await google.colab.kernel.invokeFunction('convertToInteractive',\n",
              "                                                    [key], {});\n",
              "        if (!dataTable) return;\n",
              "\n",
              "        const docLinkHtml = 'Like what you see? Visit the ' +\n",
              "          '<a target=\"_blank\" href=https://colab.research.google.com/notebooks/data_table.ipynb>data table notebook</a>'\n",
              "          + ' to learn more about interactive tables.';\n",
              "        element.innerHTML = '';\n",
              "        dataTable['output_type'] = 'display_data';\n",
              "        await google.colab.output.renderOutput(dataTable, element);\n",
              "        const docLink = document.createElement('div');\n",
              "        docLink.innerHTML = docLinkHtml;\n",
              "        element.appendChild(docLink);\n",
              "      }\n",
              "    </script>\n",
              "  </div>\n",
              "\n",
              "\n",
              "<div id=\"df-1f9595cc-c24b-4fef-8611-c15c41022b08\">\n",
              "  <button class=\"colab-df-quickchart\" onclick=\"quickchart('df-1f9595cc-c24b-4fef-8611-c15c41022b08')\"\n",
              "            title=\"Suggest charts\"\n",
              "            style=\"display:none;\">\n",
              "\n",
              "<svg xmlns=\"http://www.w3.org/2000/svg\" height=\"24px\"viewBox=\"0 0 24 24\"\n",
              "     width=\"24px\">\n",
              "    <g>\n",
              "        <path d=\"M19 3H5c-1.1 0-2 .9-2 2v14c0 1.1.9 2 2 2h14c1.1 0 2-.9 2-2V5c0-1.1-.9-2-2-2zM9 17H7v-7h2v7zm4 0h-2V7h2v10zm4 0h-2v-4h2v4z\"/>\n",
              "    </g>\n",
              "</svg>\n",
              "  </button>\n",
              "\n",
              "<style>\n",
              "  .colab-df-quickchart {\n",
              "      --bg-color: #E8F0FE;\n",
              "      --fill-color: #1967D2;\n",
              "      --hover-bg-color: #E2EBFA;\n",
              "      --hover-fill-color: #174EA6;\n",
              "      --disabled-fill-color: #AAA;\n",
              "      --disabled-bg-color: #DDD;\n",
              "  }\n",
              "\n",
              "  [theme=dark] .colab-df-quickchart {\n",
              "      --bg-color: #3B4455;\n",
              "      --fill-color: #D2E3FC;\n",
              "      --hover-bg-color: #434B5C;\n",
              "      --hover-fill-color: #FFFFFF;\n",
              "      --disabled-bg-color: #3B4455;\n",
              "      --disabled-fill-color: #666;\n",
              "  }\n",
              "\n",
              "  .colab-df-quickchart {\n",
              "    background-color: var(--bg-color);\n",
              "    border: none;\n",
              "    border-radius: 50%;\n",
              "    cursor: pointer;\n",
              "    display: none;\n",
              "    fill: var(--fill-color);\n",
              "    height: 32px;\n",
              "    padding: 0;\n",
              "    width: 32px;\n",
              "  }\n",
              "\n",
              "  .colab-df-quickchart:hover {\n",
              "    background-color: var(--hover-bg-color);\n",
              "    box-shadow: 0 1px 2px rgba(60, 64, 67, 0.3), 0 1px 3px 1px rgba(60, 64, 67, 0.15);\n",
              "    fill: var(--button-hover-fill-color);\n",
              "  }\n",
              "\n",
              "  .colab-df-quickchart-complete:disabled,\n",
              "  .colab-df-quickchart-complete:disabled:hover {\n",
              "    background-color: var(--disabled-bg-color);\n",
              "    fill: var(--disabled-fill-color);\n",
              "    box-shadow: none;\n",
              "  }\n",
              "\n",
              "  .colab-df-spinner {\n",
              "    border: 2px solid var(--fill-color);\n",
              "    border-color: transparent;\n",
              "    border-bottom-color: var(--fill-color);\n",
              "    animation:\n",
              "      spin 1s steps(1) infinite;\n",
              "  }\n",
              "\n",
              "  @keyframes spin {\n",
              "    0% {\n",
              "      border-color: transparent;\n",
              "      border-bottom-color: var(--fill-color);\n",
              "      border-left-color: var(--fill-color);\n",
              "    }\n",
              "    20% {\n",
              "      border-color: transparent;\n",
              "      border-left-color: var(--fill-color);\n",
              "      border-top-color: var(--fill-color);\n",
              "    }\n",
              "    30% {\n",
              "      border-color: transparent;\n",
              "      border-left-color: var(--fill-color);\n",
              "      border-top-color: var(--fill-color);\n",
              "      border-right-color: var(--fill-color);\n",
              "    }\n",
              "    40% {\n",
              "      border-color: transparent;\n",
              "      border-right-color: var(--fill-color);\n",
              "      border-top-color: var(--fill-color);\n",
              "    }\n",
              "    60% {\n",
              "      border-color: transparent;\n",
              "      border-right-color: var(--fill-color);\n",
              "    }\n",
              "    80% {\n",
              "      border-color: transparent;\n",
              "      border-right-color: var(--fill-color);\n",
              "      border-bottom-color: var(--fill-color);\n",
              "    }\n",
              "    90% {\n",
              "      border-color: transparent;\n",
              "      border-bottom-color: var(--fill-color);\n",
              "    }\n",
              "  }\n",
              "</style>\n",
              "\n",
              "  <script>\n",
              "    async function quickchart(key) {\n",
              "      const quickchartButtonEl =\n",
              "        document.querySelector('#' + key + ' button');\n",
              "      quickchartButtonEl.disabled = true;  // To prevent multiple clicks.\n",
              "      quickchartButtonEl.classList.add('colab-df-spinner');\n",
              "      try {\n",
              "        const charts = await google.colab.kernel.invokeFunction(\n",
              "            'suggestCharts', [key], {});\n",
              "      } catch (error) {\n",
              "        console.error('Error during call to suggestCharts:', error);\n",
              "      }\n",
              "      quickchartButtonEl.classList.remove('colab-df-spinner');\n",
              "      quickchartButtonEl.classList.add('colab-df-quickchart-complete');\n",
              "    }\n",
              "    (() => {\n",
              "      let quickchartButtonEl =\n",
              "        document.querySelector('#df-1f9595cc-c24b-4fef-8611-c15c41022b08 button');\n",
              "      quickchartButtonEl.style.display =\n",
              "        google.colab.kernel.accessAllowed ? 'block' : 'none';\n",
              "    })();\n",
              "  </script>\n",
              "</div>\n",
              "\n",
              "    </div>\n",
              "  </div>\n"
            ],
            "application/vnd.google.colaboratory.intrinsic+json": {
              "type": "dataframe",
              "variable_name": "df",
              "summary": "{\n  \"name\": \"df\",\n  \"rows\": 150,\n  \"fields\": [\n    {\n      \"column\": \"sepal_length\",\n      \"properties\": {\n        \"dtype\": \"number\",\n        \"std\": 0.8280661279778629,\n        \"min\": 4.3,\n        \"max\": 7.9,\n        \"num_unique_values\": 35,\n        \"samples\": [\n          6.2,\n          4.5,\n          5.6\n        ],\n        \"semantic_type\": \"\",\n        \"description\": \"\"\n      }\n    },\n    {\n      \"column\": \"sepal_width\",\n      \"properties\": {\n        \"dtype\": \"number\",\n        \"std\": 0.435866284936698,\n        \"min\": 2.0,\n        \"max\": 4.4,\n        \"num_unique_values\": 23,\n        \"samples\": [\n          2.3,\n          4.0,\n          3.5\n        ],\n        \"semantic_type\": \"\",\n        \"description\": \"\"\n      }\n    },\n    {\n      \"column\": \"petal_length\",\n      \"properties\": {\n        \"dtype\": \"number\",\n        \"std\": 1.7652982332594667,\n        \"min\": 1.0,\n        \"max\": 6.9,\n        \"num_unique_values\": 43,\n        \"samples\": [\n          6.7,\n          3.8,\n          3.7\n        ],\n        \"semantic_type\": \"\",\n        \"description\": \"\"\n      }\n    },\n    {\n      \"column\": \"petal_width\",\n      \"properties\": {\n        \"dtype\": \"number\",\n        \"std\": 0.7622376689603465,\n        \"min\": 0.1,\n        \"max\": 2.5,\n        \"num_unique_values\": 22,\n        \"samples\": [\n          0.2,\n          1.2,\n          1.3\n        ],\n        \"semantic_type\": \"\",\n        \"description\": \"\"\n      }\n    },\n    {\n      \"column\": \"species\",\n      \"properties\": {\n        \"dtype\": \"category\",\n        \"num_unique_values\": 3,\n        \"samples\": [\n          \"setosa\",\n          \"versicolor\",\n          \"virginica\"\n        ],\n        \"semantic_type\": \"\",\n        \"description\": \"\"\n      }\n    }\n  ]\n}"
            }
          },
          "metadata": {},
          "execution_count": 4
        }
      ],
      "source": [
        "\n",
        "url = \"https://raw.githubusercontent.com/mwaskom/seaborn-data/master/iris.csv\"\n",
        "df = pd.read_csv(url)   # charger le fichier .csv dans un tableau pandas\n",
        "df.head()               # afficher les premières lignes\n"
      ]
    },
    {
      "cell_type": "markdown",
      "id": "b62db44a",
      "metadata": {
        "id": "b62db44a"
      },
      "source": [
        "##  5. Comprendre le tableau de données"
      ]
    },
    {
      "cell_type": "markdown",
      "id": "df00a113",
      "metadata": {
        "id": "df00a113"
      },
      "source": [
        "\n",
        "Un tableau `pandas` s’appelle un **DataFrame**.  \n",
        "Il ressemble à une feuille Excel avec des lignes et des colonnes.\n",
        "\n",
        "Voici ce qu’on peut faire :\n"
      ]
    },
    {
      "cell_type": "code",
      "execution_count": 5,
      "id": "ab1a5637",
      "metadata": {
        "colab": {
          "base_uri": "https://localhost:8080/",
          "height": 352
        },
        "id": "ab1a5637",
        "outputId": "b6960f84-1ad9-4c62-c888-bc4691d559fb"
      },
      "outputs": [
        {
          "output_type": "stream",
          "name": "stdout",
          "text": [
            "Nombre de lignes : 150\n",
            "Nombre de colonnes : 5\n",
            "Colonnes : ['sepal_length', 'sepal_width', 'petal_length', 'petal_width', 'species']\n"
          ]
        },
        {
          "output_type": "execute_result",
          "data": {
            "text/plain": [
              "       sepal_length  sepal_width  petal_length  petal_width\n",
              "count    150.000000   150.000000    150.000000   150.000000\n",
              "mean       5.843333     3.057333      3.758000     1.199333\n",
              "std        0.828066     0.435866      1.765298     0.762238\n",
              "min        4.300000     2.000000      1.000000     0.100000\n",
              "25%        5.100000     2.800000      1.600000     0.300000\n",
              "50%        5.800000     3.000000      4.350000     1.300000\n",
              "75%        6.400000     3.300000      5.100000     1.800000\n",
              "max        7.900000     4.400000      6.900000     2.500000"
            ],
            "text/html": [
              "\n",
              "  <div id=\"df-c7188053-8572-4050-a5a9-4e90e1cc7ac4\" class=\"colab-df-container\">\n",
              "    <div>\n",
              "<style scoped>\n",
              "    .dataframe tbody tr th:only-of-type {\n",
              "        vertical-align: middle;\n",
              "    }\n",
              "\n",
              "    .dataframe tbody tr th {\n",
              "        vertical-align: top;\n",
              "    }\n",
              "\n",
              "    .dataframe thead th {\n",
              "        text-align: right;\n",
              "    }\n",
              "</style>\n",
              "<table border=\"1\" class=\"dataframe\">\n",
              "  <thead>\n",
              "    <tr style=\"text-align: right;\">\n",
              "      <th></th>\n",
              "      <th>sepal_length</th>\n",
              "      <th>sepal_width</th>\n",
              "      <th>petal_length</th>\n",
              "      <th>petal_width</th>\n",
              "    </tr>\n",
              "  </thead>\n",
              "  <tbody>\n",
              "    <tr>\n",
              "      <th>count</th>\n",
              "      <td>150.000000</td>\n",
              "      <td>150.000000</td>\n",
              "      <td>150.000000</td>\n",
              "      <td>150.000000</td>\n",
              "    </tr>\n",
              "    <tr>\n",
              "      <th>mean</th>\n",
              "      <td>5.843333</td>\n",
              "      <td>3.057333</td>\n",
              "      <td>3.758000</td>\n",
              "      <td>1.199333</td>\n",
              "    </tr>\n",
              "    <tr>\n",
              "      <th>std</th>\n",
              "      <td>0.828066</td>\n",
              "      <td>0.435866</td>\n",
              "      <td>1.765298</td>\n",
              "      <td>0.762238</td>\n",
              "    </tr>\n",
              "    <tr>\n",
              "      <th>min</th>\n",
              "      <td>4.300000</td>\n",
              "      <td>2.000000</td>\n",
              "      <td>1.000000</td>\n",
              "      <td>0.100000</td>\n",
              "    </tr>\n",
              "    <tr>\n",
              "      <th>25%</th>\n",
              "      <td>5.100000</td>\n",
              "      <td>2.800000</td>\n",
              "      <td>1.600000</td>\n",
              "      <td>0.300000</td>\n",
              "    </tr>\n",
              "    <tr>\n",
              "      <th>50%</th>\n",
              "      <td>5.800000</td>\n",
              "      <td>3.000000</td>\n",
              "      <td>4.350000</td>\n",
              "      <td>1.300000</td>\n",
              "    </tr>\n",
              "    <tr>\n",
              "      <th>75%</th>\n",
              "      <td>6.400000</td>\n",
              "      <td>3.300000</td>\n",
              "      <td>5.100000</td>\n",
              "      <td>1.800000</td>\n",
              "    </tr>\n",
              "    <tr>\n",
              "      <th>max</th>\n",
              "      <td>7.900000</td>\n",
              "      <td>4.400000</td>\n",
              "      <td>6.900000</td>\n",
              "      <td>2.500000</td>\n",
              "    </tr>\n",
              "  </tbody>\n",
              "</table>\n",
              "</div>\n",
              "    <div class=\"colab-df-buttons\">\n",
              "\n",
              "  <div class=\"colab-df-container\">\n",
              "    <button class=\"colab-df-convert\" onclick=\"convertToInteractive('df-c7188053-8572-4050-a5a9-4e90e1cc7ac4')\"\n",
              "            title=\"Convert this dataframe to an interactive table.\"\n",
              "            style=\"display:none;\">\n",
              "\n",
              "  <svg xmlns=\"http://www.w3.org/2000/svg\" height=\"24px\" viewBox=\"0 -960 960 960\">\n",
              "    <path d=\"M120-120v-720h720v720H120Zm60-500h600v-160H180v160Zm220 220h160v-160H400v160Zm0 220h160v-160H400v160ZM180-400h160v-160H180v160Zm440 0h160v-160H620v160ZM180-180h160v-160H180v160Zm440 0h160v-160H620v160Z\"/>\n",
              "  </svg>\n",
              "    </button>\n",
              "\n",
              "  <style>\n",
              "    .colab-df-container {\n",
              "      display:flex;\n",
              "      gap: 12px;\n",
              "    }\n",
              "\n",
              "    .colab-df-convert {\n",
              "      background-color: #E8F0FE;\n",
              "      border: none;\n",
              "      border-radius: 50%;\n",
              "      cursor: pointer;\n",
              "      display: none;\n",
              "      fill: #1967D2;\n",
              "      height: 32px;\n",
              "      padding: 0 0 0 0;\n",
              "      width: 32px;\n",
              "    }\n",
              "\n",
              "    .colab-df-convert:hover {\n",
              "      background-color: #E2EBFA;\n",
              "      box-shadow: 0px 1px 2px rgba(60, 64, 67, 0.3), 0px 1px 3px 1px rgba(60, 64, 67, 0.15);\n",
              "      fill: #174EA6;\n",
              "    }\n",
              "\n",
              "    .colab-df-buttons div {\n",
              "      margin-bottom: 4px;\n",
              "    }\n",
              "\n",
              "    [theme=dark] .colab-df-convert {\n",
              "      background-color: #3B4455;\n",
              "      fill: #D2E3FC;\n",
              "    }\n",
              "\n",
              "    [theme=dark] .colab-df-convert:hover {\n",
              "      background-color: #434B5C;\n",
              "      box-shadow: 0px 1px 3px 1px rgba(0, 0, 0, 0.15);\n",
              "      filter: drop-shadow(0px 1px 2px rgba(0, 0, 0, 0.3));\n",
              "      fill: #FFFFFF;\n",
              "    }\n",
              "  </style>\n",
              "\n",
              "    <script>\n",
              "      const buttonEl =\n",
              "        document.querySelector('#df-c7188053-8572-4050-a5a9-4e90e1cc7ac4 button.colab-df-convert');\n",
              "      buttonEl.style.display =\n",
              "        google.colab.kernel.accessAllowed ? 'block' : 'none';\n",
              "\n",
              "      async function convertToInteractive(key) {\n",
              "        const element = document.querySelector('#df-c7188053-8572-4050-a5a9-4e90e1cc7ac4');\n",
              "        const dataTable =\n",
              "          await google.colab.kernel.invokeFunction('convertToInteractive',\n",
              "                                                    [key], {});\n",
              "        if (!dataTable) return;\n",
              "\n",
              "        const docLinkHtml = 'Like what you see? Visit the ' +\n",
              "          '<a target=\"_blank\" href=https://colab.research.google.com/notebooks/data_table.ipynb>data table notebook</a>'\n",
              "          + ' to learn more about interactive tables.';\n",
              "        element.innerHTML = '';\n",
              "        dataTable['output_type'] = 'display_data';\n",
              "        await google.colab.output.renderOutput(dataTable, element);\n",
              "        const docLink = document.createElement('div');\n",
              "        docLink.innerHTML = docLinkHtml;\n",
              "        element.appendChild(docLink);\n",
              "      }\n",
              "    </script>\n",
              "  </div>\n",
              "\n",
              "\n",
              "<div id=\"df-15fc8e49-0867-4cbb-a1f3-e4e1c38010d8\">\n",
              "  <button class=\"colab-df-quickchart\" onclick=\"quickchart('df-15fc8e49-0867-4cbb-a1f3-e4e1c38010d8')\"\n",
              "            title=\"Suggest charts\"\n",
              "            style=\"display:none;\">\n",
              "\n",
              "<svg xmlns=\"http://www.w3.org/2000/svg\" height=\"24px\"viewBox=\"0 0 24 24\"\n",
              "     width=\"24px\">\n",
              "    <g>\n",
              "        <path d=\"M19 3H5c-1.1 0-2 .9-2 2v14c0 1.1.9 2 2 2h14c1.1 0 2-.9 2-2V5c0-1.1-.9-2-2-2zM9 17H7v-7h2v7zm4 0h-2V7h2v10zm4 0h-2v-4h2v4z\"/>\n",
              "    </g>\n",
              "</svg>\n",
              "  </button>\n",
              "\n",
              "<style>\n",
              "  .colab-df-quickchart {\n",
              "      --bg-color: #E8F0FE;\n",
              "      --fill-color: #1967D2;\n",
              "      --hover-bg-color: #E2EBFA;\n",
              "      --hover-fill-color: #174EA6;\n",
              "      --disabled-fill-color: #AAA;\n",
              "      --disabled-bg-color: #DDD;\n",
              "  }\n",
              "\n",
              "  [theme=dark] .colab-df-quickchart {\n",
              "      --bg-color: #3B4455;\n",
              "      --fill-color: #D2E3FC;\n",
              "      --hover-bg-color: #434B5C;\n",
              "      --hover-fill-color: #FFFFFF;\n",
              "      --disabled-bg-color: #3B4455;\n",
              "      --disabled-fill-color: #666;\n",
              "  }\n",
              "\n",
              "  .colab-df-quickchart {\n",
              "    background-color: var(--bg-color);\n",
              "    border: none;\n",
              "    border-radius: 50%;\n",
              "    cursor: pointer;\n",
              "    display: none;\n",
              "    fill: var(--fill-color);\n",
              "    height: 32px;\n",
              "    padding: 0;\n",
              "    width: 32px;\n",
              "  }\n",
              "\n",
              "  .colab-df-quickchart:hover {\n",
              "    background-color: var(--hover-bg-color);\n",
              "    box-shadow: 0 1px 2px rgba(60, 64, 67, 0.3), 0 1px 3px 1px rgba(60, 64, 67, 0.15);\n",
              "    fill: var(--button-hover-fill-color);\n",
              "  }\n",
              "\n",
              "  .colab-df-quickchart-complete:disabled,\n",
              "  .colab-df-quickchart-complete:disabled:hover {\n",
              "    background-color: var(--disabled-bg-color);\n",
              "    fill: var(--disabled-fill-color);\n",
              "    box-shadow: none;\n",
              "  }\n",
              "\n",
              "  .colab-df-spinner {\n",
              "    border: 2px solid var(--fill-color);\n",
              "    border-color: transparent;\n",
              "    border-bottom-color: var(--fill-color);\n",
              "    animation:\n",
              "      spin 1s steps(1) infinite;\n",
              "  }\n",
              "\n",
              "  @keyframes spin {\n",
              "    0% {\n",
              "      border-color: transparent;\n",
              "      border-bottom-color: var(--fill-color);\n",
              "      border-left-color: var(--fill-color);\n",
              "    }\n",
              "    20% {\n",
              "      border-color: transparent;\n",
              "      border-left-color: var(--fill-color);\n",
              "      border-top-color: var(--fill-color);\n",
              "    }\n",
              "    30% {\n",
              "      border-color: transparent;\n",
              "      border-left-color: var(--fill-color);\n",
              "      border-top-color: var(--fill-color);\n",
              "      border-right-color: var(--fill-color);\n",
              "    }\n",
              "    40% {\n",
              "      border-color: transparent;\n",
              "      border-right-color: var(--fill-color);\n",
              "      border-top-color: var(--fill-color);\n",
              "    }\n",
              "    60% {\n",
              "      border-color: transparent;\n",
              "      border-right-color: var(--fill-color);\n",
              "    }\n",
              "    80% {\n",
              "      border-color: transparent;\n",
              "      border-right-color: var(--fill-color);\n",
              "      border-bottom-color: var(--fill-color);\n",
              "    }\n",
              "    90% {\n",
              "      border-color: transparent;\n",
              "      border-bottom-color: var(--fill-color);\n",
              "    }\n",
              "  }\n",
              "</style>\n",
              "\n",
              "  <script>\n",
              "    async function quickchart(key) {\n",
              "      const quickchartButtonEl =\n",
              "        document.querySelector('#' + key + ' button');\n",
              "      quickchartButtonEl.disabled = true;  // To prevent multiple clicks.\n",
              "      quickchartButtonEl.classList.add('colab-df-spinner');\n",
              "      try {\n",
              "        const charts = await google.colab.kernel.invokeFunction(\n",
              "            'suggestCharts', [key], {});\n",
              "      } catch (error) {\n",
              "        console.error('Error during call to suggestCharts:', error);\n",
              "      }\n",
              "      quickchartButtonEl.classList.remove('colab-df-spinner');\n",
              "      quickchartButtonEl.classList.add('colab-df-quickchart-complete');\n",
              "    }\n",
              "    (() => {\n",
              "      let quickchartButtonEl =\n",
              "        document.querySelector('#df-15fc8e49-0867-4cbb-a1f3-e4e1c38010d8 button');\n",
              "      quickchartButtonEl.style.display =\n",
              "        google.colab.kernel.accessAllowed ? 'block' : 'none';\n",
              "    })();\n",
              "  </script>\n",
              "</div>\n",
              "\n",
              "    </div>\n",
              "  </div>\n"
            ],
            "application/vnd.google.colaboratory.intrinsic+json": {
              "type": "dataframe",
              "summary": "{\n  \"name\": \"df\",\n  \"rows\": 8,\n  \"fields\": [\n    {\n      \"column\": \"sepal_length\",\n      \"properties\": {\n        \"dtype\": \"number\",\n        \"std\": 51.24711349471842,\n        \"min\": 0.8280661279778629,\n        \"max\": 150.0,\n        \"num_unique_values\": 8,\n        \"samples\": [\n          5.843333333333334,\n          5.8,\n          150.0\n        ],\n        \"semantic_type\": \"\",\n        \"description\": \"\"\n      }\n    },\n    {\n      \"column\": \"sepal_width\",\n      \"properties\": {\n        \"dtype\": \"number\",\n        \"std\": 52.08617800869866,\n        \"min\": 0.435866284936698,\n        \"max\": 150.0,\n        \"num_unique_values\": 8,\n        \"samples\": [\n          3.0573333333333337,\n          3.0,\n          150.0\n        ],\n        \"semantic_type\": \"\",\n        \"description\": \"\"\n      }\n    },\n    {\n      \"column\": \"petal_length\",\n      \"properties\": {\n        \"dtype\": \"number\",\n        \"std\": 51.83521261418364,\n        \"min\": 1.0,\n        \"max\": 150.0,\n        \"num_unique_values\": 8,\n        \"samples\": [\n          3.7580000000000005,\n          4.35,\n          150.0\n        ],\n        \"semantic_type\": \"\",\n        \"description\": \"\"\n      }\n    },\n    {\n      \"column\": \"petal_width\",\n      \"properties\": {\n        \"dtype\": \"number\",\n        \"std\": 52.636648242617504,\n        \"min\": 0.1,\n        \"max\": 150.0,\n        \"num_unique_values\": 8,\n        \"samples\": [\n          1.1993333333333336,\n          1.3,\n          150.0\n        ],\n        \"semantic_type\": \"\",\n        \"description\": \"\"\n      }\n    }\n  ]\n}"
            }
          },
          "metadata": {},
          "execution_count": 5
        }
      ],
      "source": [
        "\n",
        "# Dimensions du tableau\n",
        "print(\"Nombre de lignes :\", df.shape[0])\n",
        "print(\"Nombre de colonnes :\", df.shape[1])\n",
        "\n",
        "# Noms des colonnes\n",
        "print(\"Colonnes :\", df.columns.tolist())\n",
        "\n",
        "# Statistiques de base\n",
        "df.describe()\n"
      ]
    },
    {
      "cell_type": "markdown",
      "id": "83acfe1e",
      "metadata": {
        "id": "83acfe1e"
      },
      "source": [
        "### Moyenne, écart-type, min/max par colonne"
      ]
    },
    {
      "cell_type": "code",
      "execution_count": 6,
      "id": "cb51a469",
      "metadata": {
        "colab": {
          "base_uri": "https://localhost:8080/"
        },
        "id": "cb51a469",
        "outputId": "5c2babd9-a900-4a95-8456-3534f75e95ee"
      },
      "outputs": [
        {
          "output_type": "stream",
          "name": "stdout",
          "text": [
            "Moyennes :\n",
            "sepal_length    5.843333\n",
            "sepal_width     3.057333\n",
            "petal_length    3.758000\n",
            "petal_width     1.199333\n",
            "dtype: float64\n",
            "Écart-types :\n",
            "sepal_length    0.828066\n",
            "sepal_width     0.435866\n",
            "petal_length    1.765298\n",
            "petal_width     0.762238\n",
            "dtype: float64\n"
          ]
        }
      ],
      "source": [
        "\n",
        "print(\"Moyennes :\")\n",
        "print(df.mean(numeric_only=True))\n",
        "\n",
        "print(\"Écart-types :\")\n",
        "print(df.std(numeric_only=True))\n"
      ]
    },
    {
      "cell_type": "markdown",
      "id": "cf0421ee",
      "metadata": {
        "id": "cf0421ee"
      },
      "source": [
        "##  6. Visualiser les données"
      ]
    },
    {
      "cell_type": "markdown",
      "id": "cb99b1d9",
      "metadata": {
        "id": "cb99b1d9"
      },
      "source": [
        "\n",
        "La visualisation permet de **voir les tendances**, les **différences entre groupes**, etc.\n",
        "\n",
        "Exemples de graphiques :\n"
      ]
    },
    {
      "cell_type": "code",
      "execution_count": 7,
      "id": "ad93096a",
      "metadata": {
        "colab": {
          "base_uri": "https://localhost:8080/",
          "height": 472
        },
        "id": "ad93096a",
        "outputId": "6aa12272-080a-4080-a21a-8a602c4c335d"
      },
      "outputs": [
        {
          "output_type": "display_data",
          "data": {
            "text/plain": [
              "<Figure size 640x480 with 1 Axes>"
            ],
            "image/png": "[encoded data removed]"
          },
          "metadata": {}
        }
      ],
      "source": [
        "\n",
        "# Histogramme : distribution d'une variable\n",
        "plt.hist(df[\"sepal_length\"], bins=20, color='lightblue', edgecolor='black')\n",
        "plt.title(\"Longueur des sépales\")\n",
        "plt.xlabel(\"cm\")\n",
        "plt.ylabel(\"Fréquence\")\n",
        "plt.show()\n"
      ]
    },
    {
      "cell_type": "code",
      "execution_count": 8,
      "id": "84e92e86",
      "metadata": {
        "colab": {
          "base_uri": "https://localhost:8080/",
          "height": 472
        },
        "id": "84e92e86",
        "outputId": "858f1130-0c97-4f29-971b-7b2c4d0b75c7"
      },
      "outputs": [
        {
          "output_type": "display_data",
          "data": {
            "text/plain": [
              "<Figure size 640x480 with 1 Axes>"
            ],
            "image/png": "[encoded data removed]"
          },
          "metadata": {}
        }
      ],
      "source": [
        "\n",
        "# Nuage de points : relation entre 2 variables\n",
        "sns.scatterplot(data=df, x=\"sepal_length\", y=\"petal_length\", hue=\"species\")\n",
        "plt.title(\"Relation entre sépale et pétale\")\n",
        "plt.show()\n"
      ]
    },
    {
      "cell_type": "code",
      "execution_count": 9,
      "id": "82b66f02",
      "metadata": {
        "colab": {
          "base_uri": "https://localhost:8080/",
          "height": 472
        },
        "id": "82b66f02",
        "outputId": "e0100254-a7e9-4424-894c-35a7812506e7"
      },
      "outputs": [
        {
          "output_type": "display_data",
          "data": {
            "text/plain": [
              "<Figure size 640x480 with 1 Axes>"
            ],
            "image/png": "[encoded data removed]"
          },
          "metadata": {}
        }
      ],
      "source": [
        "\n",
        "# Boxplot : comparer une variable numérique entre groupes\n",
        "sns.boxplot(data=df, x=\"species\", y=\"petal_length\")\n",
        "plt.title(\"Longueur des pétales selon l'espèce\")\n",
        "plt.show()\n"
      ]
    },
    {
      "cell_type": "markdown",
      "id": "ee3d4b69",
      "metadata": {
        "id": "ee3d4b69"
      },
      "source": [
        "#  Partie 2 – Les bibliothèques Python utiles pour la Data Science"
      ]
    },
    {
      "cell_type": "markdown",
      "id": "988a1b26",
      "metadata": {
        "id": "988a1b26"
      },
      "source": [
        "\n",
        "### 🧠 Qu’est-ce qu’une bibliothèque ?\n",
        "\n",
        "Une **bibliothèque** (ou *package*) en Python est un ensemble de fonctions déjà prêtes à l’emploi.  \n",
        "Cela vous évite de réécrire des outils complexes : vous pouvez les **importer** et les utiliser.\n",
        "\n",
        "Exemples de bibliothèques utiles en data science :\n",
        "- `numpy` : calcul numérique rapide\n",
        "- `pandas` : manipulation de tableaux de données\n",
        "- `matplotlib` et `seaborn` : visualisation de données\n",
        "- `sklearn` : machine learning\n",
        "\n",
        "###  Comment utiliser une bibliothèque ?\n",
        "\n",
        "On l'importe avec le mot-clé `import`. On donne parfois un raccourci (alias) :\n"
      ]
    },
    {
      "cell_type": "code",
      "execution_count": 10,
      "id": "a5841f74",
      "metadata": {
        "id": "a5841f74"
      },
      "outputs": [],
      "source": [
        "\n",
        "import numpy as np       # np = alias pour numpy\n",
        "import pandas as pd      # pd = alias pour pandas\n",
        "import matplotlib.pyplot as plt\n",
        "import seaborn as sns\n"
      ]
    },
    {
      "cell_type": "markdown",
      "id": "f9e5132c",
      "metadata": {
        "id": "f9e5132c"
      },
      "source": [
        "\n",
        "---\n",
        "# 🧮 Partie 3 – Manipuler des données avec NumPy et Pandas\n"
      ]
    },
    {
      "cell_type": "markdown",
      "id": "ffa5b9b3",
      "metadata": {
        "id": "ffa5b9b3"
      },
      "source": [
        "##  3.1 – NumPy : les tableaux numériques"
      ]
    },
    {
      "cell_type": "markdown",
      "id": "9f3eed30",
      "metadata": {
        "id": "9f3eed30"
      },
      "source": [
        "\n",
        "### Pourquoi NumPy ?\n",
        "\n",
        "En data science, on travaille souvent avec des **tableaux de nombres** (matrices, vecteurs).  \n",
        "La bibliothèque `numpy` permet de faire des **calculs rapides et efficaces** sur ces données.\n",
        "\n",
        "### Création d’un tableau NumPy\n"
      ]
    },
    {
      "cell_type": "code",
      "execution_count": 11,
      "id": "7149029f",
      "metadata": {
        "colab": {
          "base_uri": "https://localhost:8080/"
        },
        "id": "7149029f",
        "outputId": "4692e630-99e8-4d24-fa7f-ffee4ec3e336"
      },
      "outputs": [
        {
          "output_type": "stream",
          "name": "stdout",
          "text": [
            "Tableau a : [1 2 3 4]\n",
            "Type : <class 'numpy.ndarray'>\n",
            "Forme : (4,)\n",
            "Somme : 10\n",
            "Moyenne : 2.5\n",
            "Écart-type : 1.118033988749895\n"
          ]
        }
      ],
      "source": [
        "\n",
        "import numpy as np\n",
        "\n",
        "a = np.array([1, 2, 3, 4])\n",
        "print(\"Tableau a :\", a)\n",
        "print(\"Type :\", type(a))\n",
        "print(\"Forme :\", a.shape)\n",
        "print(\"Somme :\", np.sum(a))\n",
        "print(\"Moyenne :\", np.mean(a))\n",
        "print(\"Écart-type :\", np.std(a))\n"
      ]
    },
    {
      "cell_type": "markdown",
      "id": "3f137990",
      "metadata": {
        "id": "3f137990"
      },
      "source": [
        "\n",
        "### Opérations vectorielles\n",
        "\n",
        "Les tableaux NumPy permettent des **opérations sur tous les éléments à la fois** :\n"
      ]
    },
    {
      "cell_type": "code",
      "execution_count": 12,
      "id": "afb134b9",
      "metadata": {
        "colab": {
          "base_uri": "https://localhost:8080/"
        },
        "id": "afb134b9",
        "outputId": "0f093f5c-623b-4973-9ae7-a1b949b6726e"
      },
      "outputs": [
        {
          "output_type": "stream",
          "name": "stdout",
          "text": [
            "Addition : [11 22 33 44]\n",
            "Multiplication : [ 10  40  90 160]\n"
          ]
        }
      ],
      "source": [
        "\n",
        "b = np.array([10, 20, 30, 40])\n",
        "print(\"Addition :\", a + b)\n",
        "print(\"Multiplication :\", a * b)\n"
      ]
    },
    {
      "cell_type": "markdown",
      "id": "36327c7d",
      "metadata": {
        "id": "36327c7d"
      },
      "source": [
        "## 🧮 3.2 – Pandas : les DataFrames"
      ]
    },
    {
      "cell_type": "markdown",
      "id": "5fa9af87",
      "metadata": {
        "id": "5fa9af87"
      },
      "source": [
        "\n",
        "### Pourquoi Pandas ?\n",
        "\n",
        "La bibliothèque `pandas` est parfaite pour travailler avec des **données tabulaires** (comme des fichiers Excel ou CSV).  \n",
        "On utilise surtout deux structures :\n",
        "- `Series` : une colonne\n",
        "- `DataFrame` : un tableau (plusieurs colonnes)\n",
        "\n",
        "### Créer un DataFrame\n"
      ]
    },
    {
      "cell_type": "code",
      "execution_count": 13,
      "id": "e7a9b641",
      "metadata": {
        "colab": {
          "base_uri": "https://localhost:8080/"
        },
        "id": "e7a9b641",
        "outputId": "5d959152-9826-4912-d5a2-e577d578f18f"
      },
      "outputs": [
        {
          "output_type": "stream",
          "name": "stdout",
          "text": [
            "       Nom  Âge      Ville\n",
            "0    Alice   25      Paris\n",
            "1      Bob   30       Lyon\n",
            "2  Charlie   22  Marseille\n"
          ]
        }
      ],
      "source": [
        "\n",
        "import pandas as pd\n",
        "\n",
        "data = {\n",
        "    \"Nom\": [\"Alice\", \"Bob\", \"Charlie\"],\n",
        "    \"Âge\": [25, 30, 22],\n",
        "    \"Ville\": [\"Paris\", \"Lyon\", \"Marseille\"]\n",
        "}\n",
        "\n",
        "df = pd.DataFrame(data)\n",
        "print(df)\n"
      ]
    },
    {
      "cell_type": "markdown",
      "id": "76cc5168",
      "metadata": {
        "id": "76cc5168"
      },
      "source": [
        "\n",
        "### Fonctions utiles avec un DataFrame\n"
      ]
    },
    {
      "cell_type": "code",
      "execution_count": 14,
      "id": "b1516903",
      "metadata": {
        "colab": {
          "base_uri": "https://localhost:8080/"
        },
        "id": "b1516903",
        "outputId": "77f0a97a-b58e-49c9-9db9-676f9f9a68a8"
      },
      "outputs": [
        {
          "output_type": "stream",
          "name": "stdout",
          "text": [
            "Dimensions : (3, 3)\n",
            "Colonnes : Index(['Nom', 'Âge', 'Ville'], dtype='object')\n",
            "Types de données : Nom      object\n",
            "Âge       int64\n",
            "Ville    object\n",
            "dtype: object\n",
            "Premières lignes :\n",
            "       Nom  Âge      Ville\n",
            "0    Alice   25      Paris\n",
            "1      Bob   30       Lyon\n",
            "2  Charlie   22  Marseille\n",
            "Résumé statistique :\n",
            "             Âge\n",
            "count   3.000000\n",
            "mean   25.666667\n",
            "std     4.041452\n",
            "min    22.000000\n",
            "25%    23.500000\n",
            "50%    25.000000\n",
            "75%    27.500000\n",
            "max    30.000000\n"
          ]
        }
      ],
      "source": [
        "\n",
        "print(\"Dimensions :\", df.shape)         # (lignes, colonnes)\n",
        "print(\"Colonnes :\", df.columns)\n",
        "print(\"Types de données :\", df.dtypes)\n",
        "print(\"Premières lignes :\")\n",
        "print(df.head())                        # par défaut 5 premières lignes\n",
        "print(\"Résumé statistique :\")\n",
        "print(df.describe())                    # pour les colonnes numériques\n"
      ]
    },
    {
      "cell_type": "markdown",
      "id": "439f0b4b",
      "metadata": {
        "id": "439f0b4b"
      },
      "source": [
        "\n",
        "### Accéder aux données\n"
      ]
    },
    {
      "cell_type": "code",
      "execution_count": 15,
      "id": "e93aa228",
      "metadata": {
        "colab": {
          "base_uri": "https://localhost:8080/"
        },
        "id": "e93aa228",
        "outputId": "4cc0c61b-e5be-43b2-f587-799e91dd43ea"
      },
      "outputs": [
        {
          "output_type": "stream",
          "name": "stdout",
          "text": [
            "Accès à une colonne :\n",
            "0    25\n",
            "1    30\n",
            "2    22\n",
            "Name: Âge, dtype: int64\n",
            "Accès à une ligne :\n",
            "Nom       Bob\n",
            "Âge        30\n",
            "Ville    Lyon\n",
            "Name: 1, dtype: object\n",
            "Filtrage : personnes de plus de 24 ans\n",
            "     Nom  Âge  Ville\n",
            "0  Alice   25  Paris\n",
            "1    Bob   30   Lyon\n"
          ]
        }
      ],
      "source": [
        "\n",
        "print(\"Accès à une colonne :\")\n",
        "print(df[\"Âge\"])\n",
        "\n",
        "print(\"Accès à une ligne :\")\n",
        "print(df.loc[1])   # ligne avec index 1\n",
        "\n",
        "print(\"Filtrage : personnes de plus de 24 ans\")\n",
        "print(df[df[\"Âge\"] > 24])\n"
      ]
    },
    {
      "cell_type": "markdown",
      "id": "0de5eec4",
      "metadata": {
        "id": "0de5eec4"
      },
      "source": [
        "\n",
        "### Charger un fichier CSV\n",
        "\n",
        "C’est souvent comme cela qu’on commence un projet de data science :\n"
      ]
    },
    {
      "cell_type": "code",
      "execution_count": 16,
      "id": "8e82b129",
      "metadata": {
        "colab": {
          "base_uri": "https://localhost:8080/"
        },
        "id": "8e82b129",
        "outputId": "835cb090-e32b-4b62-b72f-c9c0d7b842b7"
      },
      "outputs": [
        {
          "output_type": "stream",
          "name": "stdout",
          "text": [
            "   sepal_length  sepal_width  petal_length  petal_width species\n",
            "0           5.1          3.5           1.4          0.2  setosa\n",
            "1           4.9          3.0           1.4          0.2  setosa\n",
            "2           4.7          3.2           1.3          0.2  setosa\n",
            "3           4.6          3.1           1.5          0.2  setosa\n",
            "4           5.0          3.6           1.4          0.2  setosa\n"
          ]
        }
      ],
      "source": [
        "\n",
        "# Exemple : (à adapter selon votre fichier)\n",
        "# df = pd.read_csv(\"mon_fichier.csv\")\n",
        "\n",
        "# Exemple réel en ligne :\n",
        "url = \"https://raw.githubusercontent.com/mwaskom/seaborn-data/master/iris.csv\"\n",
        "iris = pd.read_csv(url)\n",
        "print(iris.head())\n"
      ]
    }
  ],
  "metadata": {
    "colab": {
      "provenance": []
    },
    "language_info": {
      "name": "python"
    },
    "kernelspec": {
      "name": "python3",
      "display_name": "Python 3"
    }
  },
  "nbformat": 4,
  "nbformat_minor": 5
}