{
 "cells": [
  {
   "cell_type": "markdown",
   "id": "734b97d6",
   "metadata": {},
   "source": [
    "\n",
    "# Initiation au Machine Learning en Python\n",
    "\n",
    "Bienvenue dans ce TD ! Ici, vous allez découvrir les bases d'un pipeline complet de Machine Learning, étape par étape, avec des **explications détaillées**, **des exemples** et **des exercices pratiques**.\n",
    "\n",
    "Ce TD s'appuie sur un jeu de données médical (cancer du sein) et montre comment :  \n",
    "- Charger des données  \n",
    "- Nettoyer et préparer les données  \n",
    "- Entraîner un modèle de machine learning  \n",
    "- Évaluer ses performances  \n",
    "\n",
    "Le but est de vous donner une **vision claire et concrète** de la puissance du Machine Learning avec Python.\n",
    "\n",
    "---\n"
   ]
  },
  {
   "cell_type": "markdown",
   "id": "833de035",
   "metadata": {
    "id": "833de035"
   },
   "source": [
    "# TD exemple pour le ML en Python (Guillaume Bachelot, Alexandre Godmer)"
   ]
  },
  {
   "cell_type": "markdown",
   "id": "02885d77",
   "metadata": {
    "id": "02885d77"
   },
   "source": [
    "### --> Ces étapes permettent de créer un pipeline complet en décomposant les différentes étapes clés : l'imputation des valeurs manquantes, la standardisation des données, l'entraînement du modèle, et l'évaluation des résultats. Vous pouvez facilement réutiliser ces étapes pour d'autres tâches de machine learning avec des modifications mineures selon les besoins."
   ]
  },
  {
   "cell_type": "markdown",
   "id": "711bc72a",
   "metadata": {
    "id": "711bc72a"
   },
   "source": [
    "## Mise en place de l'environnement"
   ]
  },
  {
   "cell_type": "code",
   "execution_count": 1,
   "id": "b097a6fa",
   "metadata": {
    "colab": {
     "base_uri": "https://localhost:8080/"
    },
    "id": "b097a6fa",
    "outputId": "145bd181-d729-4b9f-fa8a-a9565beca9dd"
   },
   "outputs": [
    {
     "name": "stdout",
     "output_type": "stream",
     "text": [
      "Requirement already satisfied: kaggle in /usr/local/lib/python3.11/dist-packages (1.6.17)\n",
      "Requirement already satisfied: six>=1.10 in /usr/local/lib/python3.11/dist-packages (from kaggle) (1.17.0)\n",
      "Requirement already satisfied: certifi>=2023.7.22 in /usr/local/lib/python3.11/dist-packages (from kaggle) (2025.1.31)\n",
      "Requirement already satisfied: python-dateutil in /usr/local/lib/python3.11/dist-packages (from kaggle) (2.8.2)\n",
      "Requirement already satisfied: requests in /usr/local/lib/python3.11/dist-packages (from kaggle) (2.32.3)\n",
      "Requirement already satisfied: tqdm in /usr/local/lib/python3.11/dist-packages (from kaggle) (4.67.1)\n",
      "Requirement already satisfied: python-slugify in /usr/local/lib/python3.11/dist-packages (from kaggle) (8.0.4)\n",
      "Requirement already satisfied: urllib3 in /usr/local/lib/python3.11/dist-packages (from kaggle) (2.3.0)\n",
      "Requirement already satisfied: bleach in /usr/local/lib/python3.11/dist-packages (from kaggle) (6.2.0)\n",
      "Requirement already satisfied: webencodings in /usr/local/lib/python3.11/dist-packages (from bleach->kaggle) (0.5.1)\n",
      "Requirement already satisfied: text-unidecode>=1.3 in /usr/local/lib/python3.11/dist-packages (from python-slugify->kaggle) (1.3)\n",
      "Requirement already satisfied: charset-normalizer<4,>=2 in /usr/local/lib/python3.11/dist-packages (from requests->kaggle) (3.4.1)\n",
      "Requirement already satisfied: idna<4,>=2.5 in /usr/local/lib/python3.11/dist-packages (from requests->kaggle) (3.10)\n"
     ]
    }
   ],
   "source": [
    "!pip install kaggle\n",
    "!mkdir -p ~/.kaggle"
   ]
  },
  {
   "cell_type": "code",
   "execution_count": 2,
   "id": "eb7779b3",
   "metadata": {
    "colab": {
     "base_uri": "https://localhost:8080/"
    },
    "id": "eb7779b3",
    "outputId": "8774c61d-70b3-47fd-d873-abcc820efcc1"
   },
   "outputs": [
    {
     "name": "stdout",
     "output_type": "stream",
     "text": [
      "Cloning into 'Formation_IA'...\n",
      "remote: Enumerating objects: 204, done.\u001b[K\n",
      "remote: Counting objects: 100% (204/204), done.\u001b[K\n",
      "remote: Compressing objects: 100% (170/170), done.\u001b[K\n",
      "remote: Total 204 (delta 86), reused 110 (delta 29), pack-reused 0 (from 0)\u001b[K\n",
      "Receiving objects: 100% (204/204), 36.59 MiB | 23.37 MiB/s, done.\n",
      "Resolving deltas: 100% (86/86), done.\n"
     ]
    }
   ],
   "source": [
    "# Pour cloner un dépôt GitHub entier\n",
    "!git clone 'https://github.com/agodmer/Formation_IA'"
   ]
  },
  {
   "cell_type": "code",
   "execution_count": 3,
   "id": "be5d9632",
   "metadata": {
    "colab": {
     "base_uri": "https://localhost:8080/"
    },
    "id": "be5d9632",
    "outputId": "adb33d6a-bc54-46b2-e3f1-6549cf12ad93"
   },
   "outputs": [
    {
     "name": "stdout",
     "output_type": "stream",
     "text": [
      "--2025-03-13 08:38:17--  https://github.com/agodmer/UE-Medecine-IA-Omics/blob/main/Data/Breast_Cancer_Wisconsin.csv\n",
      "Resolving github.com (github.com)... 140.82.112.4\n",
      "Connecting to github.com (github.com)|140.82.112.4|:443... connected.\n",
      "HTTP request sent, awaiting response... 200 OK\n",
      "Length: unspecified [text/html]\n",
      "Saving to: ‘nom_du_fichier’\n",
      "\n",
      "nom_du_fichier          [  <=>               ] 657.27K  2.11MB/s    in 0.3s    \n",
      "\n",
      "2025-03-13 08:38:18 (2.11 MB/s) - ‘nom_du_fichier’ saved [673046]\n",
      "\n"
     ]
    }
   ],
   "source": [
    "# Pour télécharger un fichier spécifique depuis GitHub\n",
    "!wget 'https://github.com/agodmer/UE-Medecine-IA-Omics/blob/main/Data/Breast_Cancer_Wisconsin.csv' -O nom_du_fichier"
   ]
  },
  {
   "cell_type": "markdown",
   "id": "1e83be50",
   "metadata": {
    "id": "1e83be50"
   },
   "source": [
    "## Jeu de données \"Breast Cancer Wisconsin\" de Kaggle"
   ]
  },
  {
   "cell_type": "markdown",
   "id": "2cc31902",
   "metadata": {},
   "source": [
    "\n",
    "## Étape 1 : Importer les bibliothèques\n",
    "\n",
    "Une **bibliothèque** contient des fonctions toutes prêtes que nous allons utiliser pour :  \n",
    "- Manipuler les données (`pandas`, `numpy`)  \n",
    "- Créer des graphiques (`matplotlib`, `seaborn`)  \n",
    "- Appliquer des modèles de machine learning (`sklearn`)\n"
   ]
  },
  {
   "cell_type": "code",
   "execution_count": 9,
   "id": "e945a7d9",
   "metadata": {
    "id": "e945a7d9"
   },
   "outputs": [],
   "source": [
    "# Import des bibliothèques nécessaires\n",
    "import pandas as pd\n",
    "# Import des bibliothèques nécessaires\n",
    "import numpy as np\n",
    "# Import des bibliothèques nécessaires\n",
    "from sklearn.model_selection import train_test_split\n",
    "# Import des bibliothèques nécessaires\n",
    "from sklearn.preprocessing import StandardScaler, LabelEncoder\n",
    "# Import des bibliothèques nécessaires\n",
    "from sklearn.impute import SimpleImputer\n",
    "# Import des bibliothèques nécessaires\n",
    "from sklearn.ensemble import RandomForestClassifier\n",
    "# Import des bibliothèques nécessaires\n",
    "from sklearn.metrics import accuracy_score, classification_report, confusion_matrix\n",
    "# Import des bibliothèques nécessaires\n",
    "import seaborn as sns\n",
    "# Import des bibliothèques nécessaires\n",
    "import matplotlib.pyplot as plt"
   ]
  },
  {
   "cell_type": "markdown",
   "id": "1fee3a8d",
   "metadata": {},
   "source": [
    "\n",
    "## Étape 2 : Chargement et prétraitement des données\n",
    "\n",
    "Nous allons maintenant :\n",
    "- Charger un fichier `.csv` contenant nos données médicales\n",
    "- Nettoyer les données : supprimer les colonnes inutiles, gérer les valeurs manquantes, transformer les variables catégorielles\n",
    "\n",
    "📌 Ces étapes sont **essentielles** pour que l'algorithme puisse apprendre efficacement.\n"
   ]
  },
  {
   "cell_type": "code",
   "execution_count": 12,
   "id": "fd813d69",
   "metadata": {
    "colab": {
     "base_uri": "https://localhost:8080/"
    },
    "id": "fd813d69",
    "outputId": "1554d556-73eb-482e-aa04-76d48cf8584c"
   },
   "outputs": [
    {
     "name": "stdout",
     "output_type": "stream",
     "text": [
      "         id diagnosis  radius_mean  texture_mean  perimeter_mean  area_mean  \\\n",
      "0    842302         M        17.99         10.38          122.80     1001.0   \n",
      "1    842517         M        20.57         17.77          132.90     1326.0   \n",
      "2  84300903         M        19.69         21.25          130.00     1203.0   \n",
      "3  84348301         M        11.42         20.38           77.58      386.1   \n",
      "4  84358402         M        20.29         14.34          135.10     1297.0   \n",
      "\n",
      "   smoothness_mean  compactness_mean  concavity_mean  concave points_mean  \\\n",
      "0          0.11840           0.27760          0.3001              0.14710   \n",
      "1          0.08474           0.07864          0.0869              0.07017   \n",
      "2          0.10960           0.15990          0.1974              0.12790   \n",
      "3          0.14250           0.28390          0.2414              0.10520   \n",
      "4          0.10030           0.13280          0.1980              0.10430   \n",
      "\n",
      "   ...  radius_worst  texture_worst  perimeter_worst  area_worst  \\\n",
      "0  ...         25.38          17.33           184.60      2019.0   \n",
      "1  ...         24.99          23.41           158.80      1956.0   \n",
      "2  ...         23.57          25.53           152.50      1709.0   \n",
      "3  ...         14.91          26.50            98.87       567.7   \n",
      "4  ...         22.54          16.67           152.20      1575.0   \n",
      "\n",
      "   smoothness_worst  compactness_worst  concavity_worst  concave points_worst  \\\n",
      "0            0.1622             0.6656           0.7119                0.2654   \n",
      "1            0.1238             0.1866           0.2416                0.1860   \n",
      "2            0.1444             0.4245           0.4504                0.2430   \n",
      "3            0.2098             0.8663           0.6869                0.2575   \n",
      "4            0.1374             0.2050           0.4000                0.1625   \n",
      "\n",
      "   symmetry_worst  fractal_dimension_worst  \n",
      "0          0.4601                  0.11890  \n",
      "1          0.2750                  0.08902  \n",
      "2          0.3613                  0.08758  \n",
      "3          0.6638                  0.17300  \n",
      "4          0.2364                  0.07678  \n",
      "\n",
      "[5 rows x 32 columns]\n"
     ]
    }
   ],
   "source": [
    "# Chargement du fichier CSV\n",
    "# Chargement du fichier CSV dans un DataFrame\n",
    "df = pd.read_csv(\"/content/Formation_IA/Data/Breast_Cancer_Wisconsin.csv\", sep=';')\n",
    "\n",
    "# Visualisation des premières lignes\n",
    "print(df.head())"
   ]
  },
  {
   "cell_type": "markdown",
   "id": "71e4a3b4",
   "metadata": {
    "id": "71e4a3b4"
   },
   "source": [
    "Dix valeurs réelles sont calculées pour chaque noyau cellulaire :\n",
    "\n",
    "a) rayon (moyenne des distances entre le centre et les points du périmètre)\n",
    "\n",
    "b) texture (écart-type des valeurs en niveaux de gris)\n",
    "\n",
    "c) périmètre\n",
    "\n",
    "d) surface\n",
    "\n",
    "e) douceur (variation locale de la longueur des rayons)\n",
    "\n",
    "f) compacité (périmètre^2 / surface - 1,0)\n",
    "\n",
    "g) concavité (gravité des parties concaves du contour)\n",
    "\n",
    "h) points concaves (nombre de parties concaves du contour)\n",
    "\n",
    "i) symétrie\n",
    "\n",
    "j) dimension fractale (\"approximation du trait de côte\" - 1)"
   ]
  },
  {
   "cell_type": "markdown",
   "id": "fa5f6343",
   "metadata": {
    "id": "fa5f6343"
   },
   "source": [
    "## 3. Nettoyage des Données"
   ]
  },
  {
   "cell_type": "markdown",
   "id": "T7zswX5lcjd7",
   "metadata": {
    "id": "T7zswX5lcjd7"
   },
   "source": [
    "Vérification de la présence de données manquantes ?"
   ]
  },
  {
   "cell_type": "code",
   "execution_count": null,
   "id": "9b4-3ktkzoZ2",
   "metadata": {
    "id": "9b4-3ktkzoZ2"
   },
   "outputs": [],
   "source": []
  },
  {
   "cell_type": "code",
   "execution_count": 13,
   "id": "4f9c756f",
   "metadata": {
    "colab": {
     "base_uri": "https://localhost:8080/"
    },
    "id": "4f9c756f",
    "outputId": "c050e41b-dd60-4e4e-e7f6-f03c36b545b2"
   },
   "outputs": [
    {
     "name": "stdout",
     "output_type": "stream",
     "text": [
      "Nombre de valeurs manquantes par colonne:\n",
      "id                          0\n",
      "diagnosis                   0\n",
      "radius_mean                 3\n",
      "texture_mean                4\n",
      "perimeter_mean              5\n",
      "area_mean                   4\n",
      "smoothness_mean            20\n",
      "compactness_mean           17\n",
      "concavity_mean             16\n",
      "concave points_mean         8\n",
      "symmetry_mean              16\n",
      "fractal_dimension_mean     12\n",
      "radius_se                  11\n",
      "texture_se                  2\n",
      "perimeter_se                1\n",
      "area_se                     9\n",
      "smoothness_se              10\n",
      "compactness_se              1\n",
      "concavity_se               12\n",
      "concave points_se           9\n",
      "symmetry_se                13\n",
      "fractal_dimension_se        7\n",
      "radius_worst                9\n",
      "texture_worst               5\n",
      "perimeter_worst             9\n",
      "area_worst                  3\n",
      "smoothness_worst            2\n",
      "compactness_worst           1\n",
      "concavity_worst             2\n",
      "concave points_worst        7\n",
      "symmetry_worst              2\n",
      "fractal_dimension_worst     3\n",
      "dtype: int64\n"
     ]
    }
   ],
   "source": [
    "# Suppression des colonnes inutiles (si nécessaire)\n",
    "# Exemple : si une colonne n'est pas utile pour la modélisation\n",
    "# df = df.drop(columns=[\"id\", \"Unnamed: 32\"], errors='ignore')\n",
    "\n",
    "# Vérification des valeurs manquantes\n",
    "print(\"Nombre de valeurs manquantes par colonne:\")\n",
    "print(df.isnull().sum())"
   ]
  },
  {
   "cell_type": "markdown",
   "id": "15baf246",
   "metadata": {
    "id": "15baf246"
   },
   "source": [
    "## 4. Division des Données en Entraînement et Test"
   ]
  },
  {
   "cell_type": "code",
   "execution_count": 15,
   "id": "bc0734e9",
   "metadata": {
    "id": "bc0734e9"
   },
   "outputs": [],
   "source": [
    "# Séparer les caractéristiques (X) de la cible (y)\n",
    "# Remarque : ajustez les noms de colonnes en fonction du fichier CSV\n",
    "X = df.drop(columns=[\"diagnosis\"])  # Toutes les caractéristiques\n",
    "y = df[\"diagnosis\"]  # La cible (diagnosis)\n",
    "\n",
    "# Conversion des étiquettes en numériques\n",
    "# Encodage des variables catégorielles en numériques\n",
    "label_encoder = LabelEncoder()\n",
    "y = label_encoder.fit_transform(y)  # Convertit 'B' et 'M' en 0 et 1\n",
    "\n",
    "# Division en ensembles d'entraînement et de test\n",
    "# Séparation des données en jeu d'entraînement et de test\n",
    "X_train, X_test, y_train, y_test = train_test_split(X, y, test_size=0.3, random_state=42)"
   ]
  },
  {
   "cell_type": "markdown",
   "id": "e361f85b",
   "metadata": {
    "id": "e361f85b"
   },
   "source": [
    "## 5.a Imputation des Valeurs Manquantes"
   ]
  },
  {
   "cell_type": "code",
   "execution_count": 16,
   "id": "1351cd50",
   "metadata": {
    "id": "1351cd50"
   },
   "outputs": [],
   "source": [
    "# Import des bibliothèques nécessaires\n",
    "from sklearn.impute import SimpleImputer\n",
    "\n",
    "# Créer un imputer qui remplace les valeurs manquantes par la moyenne\n",
    "# Imputation des valeurs manquantes (remplacement par la moyenne)\n",
    "imputer = SimpleImputer(strategy=\"mean\")\n",
    "\n",
    "# Appliquer l'imputer à l'ensemble d'entraînement\n",
    "X_train_imputed = imputer.fit_transform(X_train)\n",
    "\n",
    "# Appliquer l'imputer à l'ensemble de test (sans \"fit\" pour éviter des fuites de données)\n",
    "X_test_imputed = imputer.transform(X_test)"
   ]
  },
  {
   "cell_type": "markdown",
   "id": "a561b5ae",
   "metadata": {
    "id": "a561b5ae"
   },
   "source": [
    "## 5.b Standardisation des Données"
   ]
  },
  {
   "cell_type": "code",
   "execution_count": 17,
   "id": "b45203ce",
   "metadata": {
    "id": "b45203ce"
   },
   "outputs": [],
   "source": [
    "# Import des bibliothèques nécessaires\n",
    "from sklearn.preprocessing import StandardScaler\n",
    "\n",
    "# Créer un scaler pour standardiser les caractéristiques\n",
    "# Standardisation des données\n",
    "scaler = StandardScaler()\n",
    "\n",
    "# Appliquer le scaler à l'ensemble d'entraînement\n",
    "X_train_scaled = scaler.fit_transform(X_train_imputed)\n",
    "\n",
    "# Appliquer le scaler à l'ensemble de test\n",
    "X_test_scaled = scaler.transform(X_test_imputed)"
   ]
  },
  {
   "cell_type": "markdown",
   "id": "50edb15c",
   "metadata": {
    "id": "50edb15c"
   },
   "source": [
    "## 5.c Entraînement du Modèle"
   ]
  },
  {
   "cell_type": "code",
   "execution_count": 18,
   "id": "ce88ae3b",
   "metadata": {
    "colab": {
     "base_uri": "https://localhost:8080/",
     "height": 80
    },
    "id": "ce88ae3b",
    "outputId": "3f3c27f6-5c94-45ce-ea91-baac42f94852"
   },
   "outputs": [
    {
     "data": {
      "text/html": [
       "<style>#sk-container-id-1 {\n",
       "  /* Definition of color scheme common for light and dark mode */\n",
       "  --sklearn-color-text: #000;\n",
       "  --sklearn-color-text-muted: #666;\n",
       "  --sklearn-color-line: gray;\n",
       "  /* Definition of color scheme for unfitted estimators */\n",
       "  --sklearn-color-unfitted-level-0: #fff5e6;\n",
       "  --sklearn-color-unfitted-level-1: #f6e4d2;\n",
       "  --sklearn-color-unfitted-level-2: #ffe0b3;\n",
       "  --sklearn-color-unfitted-level-3: chocolate;\n",
       "  /* Definition of color scheme for fitted estimators */\n",
       "  --sklearn-color-fitted-level-0: #f0f8ff;\n",
       "  --sklearn-color-fitted-level-1: #d4ebff;\n",
       "  --sklearn-color-fitted-level-2: #b3dbfd;\n",
       "  --sklearn-color-fitted-level-3: cornflowerblue;\n",
       "\n",
       "  /* Specific color for light theme */\n",
       "  --sklearn-color-text-on-default-background: var(--sg-text-color, var(--theme-code-foreground, var(--jp-content-font-color1, black)));\n",
       "  --sklearn-color-background: var(--sg-background-color, var(--theme-background, var(--jp-layout-color0, white)));\n",
       "  --sklearn-color-border-box: var(--sg-text-color, var(--theme-code-foreground, var(--jp-content-font-color1, black)));\n",
       "  --sklearn-color-icon: #696969;\n",
       "\n",
       "  @media (prefers-color-scheme: dark) {\n",
       "    /* Redefinition of color scheme for dark theme */\n",
       "    --sklearn-color-text-on-default-background: var(--sg-text-color, var(--theme-code-foreground, var(--jp-content-font-color1, white)));\n",
       "    --sklearn-color-background: var(--sg-background-color, var(--theme-background, var(--jp-layout-color0, #111)));\n",
       "    --sklearn-color-border-box: var(--sg-text-color, var(--theme-code-foreground, var(--jp-content-font-color1, white)));\n",
       "    --sklearn-color-icon: #878787;\n",
       "  }\n",
       "}\n",
       "\n",
       "#sk-container-id-1 {\n",
       "  color: var(--sklearn-color-text);\n",
       "}\n",
       "\n",
       "#sk-container-id-1 pre {\n",
       "  padding: 0;\n",
       "}\n",
       "\n",
       "#sk-container-id-1 input.sk-hidden--visually {\n",
       "  border: 0;\n",
       "  clip: rect(1px 1px 1px 1px);\n",
       "  clip: rect(1px, 1px, 1px, 1px);\n",
       "  height: 1px;\n",
       "  margin: -1px;\n",
       "  overflow: hidden;\n",
       "  padding: 0;\n",
       "  position: absolute;\n",
       "  width: 1px;\n",
       "}\n",
       "\n",
       "#sk-container-id-1 div.sk-dashed-wrapped {\n",
       "  border: 1px dashed var(--sklearn-color-line);\n",
       "  margin: 0 0.4em 0.5em 0.4em;\n",
       "  box-sizing: border-box;\n",
       "  padding-bottom: 0.4em;\n",
       "  background-color: var(--sklearn-color-background);\n",
       "}\n",
       "\n",
       "#sk-container-id-1 div.sk-container {\n",
       "  /* jupyter's `normalize.less` sets `[hidden] { display: none; }`\n",
       "     but bootstrap.min.css set `[hidden] { display: none !important; }`\n",
       "     so we also need the `!important` here to be able to override the\n",
       "     default hidden behavior on the sphinx rendered scikit-learn.org.\n",
       "     See: https://github.com/scikit-learn/scikit-learn/issues/21755 */\n",
       "  display: inline-block !important;\n",
       "  position: relative;\n",
       "}\n",
       "\n",
       "#sk-container-id-1 div.sk-text-repr-fallback {\n",
       "  display: none;\n",
       "}\n",
       "\n",
       "div.sk-parallel-item,\n",
       "div.sk-serial,\n",
       "div.sk-item {\n",
       "  /* draw centered vertical line to link estimators */\n",
       "  background-image: linear-gradient(var(--sklearn-color-text-on-default-background), var(--sklearn-color-text-on-default-background));\n",
       "  background-size: 2px 100%;\n",
       "  background-repeat: no-repeat;\n",
       "  background-position: center center;\n",
       "}\n",
       "\n",
       "/* Parallel-specific style estimator block */\n",
       "\n",
       "#sk-container-id-1 div.sk-parallel-item::after {\n",
       "  content: \"\";\n",
       "  width: 100%;\n",
       "  border-bottom: 2px solid var(--sklearn-color-text-on-default-background);\n",
       "  flex-grow: 1;\n",
       "}\n",
       "\n",
       "#sk-container-id-1 div.sk-parallel {\n",
       "  display: flex;\n",
       "  align-items: stretch;\n",
       "  justify-content: center;\n",
       "  background-color: var(--sklearn-color-background);\n",
       "  position: relative;\n",
       "}\n",
       "\n",
       "#sk-container-id-1 div.sk-parallel-item {\n",
       "  display: flex;\n",
       "  flex-direction: column;\n",
       "}\n",
       "\n",
       "#sk-container-id-1 div.sk-parallel-item:first-child::after {\n",
       "  align-self: flex-end;\n",
       "  width: 50%;\n",
       "}\n",
       "\n",
       "#sk-container-id-1 div.sk-parallel-item:last-child::after {\n",
       "  align-self: flex-start;\n",
       "  width: 50%;\n",
       "}\n",
       "\n",
       "#sk-container-id-1 div.sk-parallel-item:only-child::after {\n",
       "  width: 0;\n",
       "}\n",
       "\n",
       "/* Serial-specific style estimator block */\n",
       "\n",
       "#sk-container-id-1 div.sk-serial {\n",
       "  display: flex;\n",
       "  flex-direction: column;\n",
       "  align-items: center;\n",
       "  background-color: var(--sklearn-color-background);\n",
       "  padding-right: 1em;\n",
       "  padding-left: 1em;\n",
       "}\n",
       "\n",
       "\n",
       "/* Toggleable style: style used for estimator/Pipeline/ColumnTransformer box that is\n",
       "clickable and can be expanded/collapsed.\n",
       "- Pipeline and ColumnTransformer use this feature and define the default style\n",
       "- Estimators will overwrite some part of the style using the `sk-estimator` class\n",
       "*/\n",
       "\n",
       "/* Pipeline and ColumnTransformer style (default) */\n",
       "\n",
       "#sk-container-id-1 div.sk-toggleable {\n",
       "  /* Default theme specific background. It is overwritten whether we have a\n",
       "  specific estimator or a Pipeline/ColumnTransformer */\n",
       "  background-color: var(--sklearn-color-background);\n",
       "}\n",
       "\n",
       "/* Toggleable label */\n",
       "#sk-container-id-1 label.sk-toggleable__label {\n",
       "  cursor: pointer;\n",
       "  display: flex;\n",
       "  width: 100%;\n",
       "  margin-bottom: 0;\n",
       "  padding: 0.5em;\n",
       "  box-sizing: border-box;\n",
       "  text-align: center;\n",
       "  align-items: start;\n",
       "  justify-content: space-between;\n",
       "  gap: 0.5em;\n",
       "}\n",
       "\n",
       "#sk-container-id-1 label.sk-toggleable__label .caption {\n",
       "  font-size: 0.6rem;\n",
       "  font-weight: lighter;\n",
       "  color: var(--sklearn-color-text-muted);\n",
       "}\n",
       "\n",
       "#sk-container-id-1 label.sk-toggleable__label-arrow:before {\n",
       "  /* Arrow on the left of the label */\n",
       "  content: \"▸\";\n",
       "  float: left;\n",
       "  margin-right: 0.25em;\n",
       "  color: var(--sklearn-color-icon);\n",
       "}\n",
       "\n",
       "#sk-container-id-1 label.sk-toggleable__label-arrow:hover:before {\n",
       "  color: var(--sklearn-color-text);\n",
       "}\n",
       "\n",
       "/* Toggleable content - dropdown */\n",
       "\n",
       "#sk-container-id-1 div.sk-toggleable__content {\n",
       "  max-height: 0;\n",
       "  max-width: 0;\n",
       "  overflow: hidden;\n",
       "  text-align: left;\n",
       "  /* unfitted */\n",
       "  background-color: var(--sklearn-color-unfitted-level-0);\n",
       "}\n",
       "\n",
       "#sk-container-id-1 div.sk-toggleable__content.fitted {\n",
       "  /* fitted */\n",
       "  background-color: var(--sklearn-color-fitted-level-0);\n",
       "}\n",
       "\n",
       "#sk-container-id-1 div.sk-toggleable__content pre {\n",
       "  margin: 0.2em;\n",
       "  border-radius: 0.25em;\n",
       "  color: var(--sklearn-color-text);\n",
       "  /* unfitted */\n",
       "  background-color: var(--sklearn-color-unfitted-level-0);\n",
       "}\n",
       "\n",
       "#sk-container-id-1 div.sk-toggleable__content.fitted pre {\n",
       "  /* unfitted */\n",
       "  background-color: var(--sklearn-color-fitted-level-0);\n",
       "}\n",
       "\n",
       "#sk-container-id-1 input.sk-toggleable__control:checked~div.sk-toggleable__content {\n",
       "  /* Expand drop-down */\n",
       "  max-height: 200px;\n",
       "  max-width: 100%;\n",
       "  overflow: auto;\n",
       "}\n",
       "\n",
       "#sk-container-id-1 input.sk-toggleable__control:checked~label.sk-toggleable__label-arrow:before {\n",
       "  content: \"▾\";\n",
       "}\n",
       "\n",
       "/* Pipeline/ColumnTransformer-specific style */\n",
       "\n",
       "#sk-container-id-1 div.sk-label input.sk-toggleable__control:checked~label.sk-toggleable__label {\n",
       "  color: var(--sklearn-color-text);\n",
       "  background-color: var(--sklearn-color-unfitted-level-2);\n",
       "}\n",
       "\n",
       "#sk-container-id-1 div.sk-label.fitted input.sk-toggleable__control:checked~label.sk-toggleable__label {\n",
       "  background-color: var(--sklearn-color-fitted-level-2);\n",
       "}\n",
       "\n",
       "/* Estimator-specific style */\n",
       "\n",
       "/* Colorize estimator box */\n",
       "#sk-container-id-1 div.sk-estimator input.sk-toggleable__control:checked~label.sk-toggleable__label {\n",
       "  /* unfitted */\n",
       "  background-color: var(--sklearn-color-unfitted-level-2);\n",
       "}\n",
       "\n",
       "#sk-container-id-1 div.sk-estimator.fitted input.sk-toggleable__control:checked~label.sk-toggleable__label {\n",
       "  /* fitted */\n",
       "  background-color: var(--sklearn-color-fitted-level-2);\n",
       "}\n",
       "\n",
       "#sk-container-id-1 div.sk-label label.sk-toggleable__label,\n",
       "#sk-container-id-1 div.sk-label label {\n",
       "  /* The background is the default theme color */\n",
       "  color: var(--sklearn-color-text-on-default-background);\n",
       "}\n",
       "\n",
       "/* On hover, darken the color of the background */\n",
       "#sk-container-id-1 div.sk-label:hover label.sk-toggleable__label {\n",
       "  color: var(--sklearn-color-text);\n",
       "  background-color: var(--sklearn-color-unfitted-level-2);\n",
       "}\n",
       "\n",
       "/* Label box, darken color on hover, fitted */\n",
       "#sk-container-id-1 div.sk-label.fitted:hover label.sk-toggleable__label.fitted {\n",
       "  color: var(--sklearn-color-text);\n",
       "  background-color: var(--sklearn-color-fitted-level-2);\n",
       "}\n",
       "\n",
       "/* Estimator label */\n",
       "\n",
       "#sk-container-id-1 div.sk-label label {\n",
       "  font-family: monospace;\n",
       "  font-weight: bold;\n",
       "  display: inline-block;\n",
       "  line-height: 1.2em;\n",
       "}\n",
       "\n",
       "#sk-container-id-1 div.sk-label-container {\n",
       "  text-align: center;\n",
       "}\n",
       "\n",
       "/* Estimator-specific */\n",
       "#sk-container-id-1 div.sk-estimator {\n",
       "  font-family: monospace;\n",
       "  border: 1px dotted var(--sklearn-color-border-box);\n",
       "  border-radius: 0.25em;\n",
       "  box-sizing: border-box;\n",
       "  margin-bottom: 0.5em;\n",
       "  /* unfitted */\n",
       "  background-color: var(--sklearn-color-unfitted-level-0);\n",
       "}\n",
       "\n",
       "#sk-container-id-1 div.sk-estimator.fitted {\n",
       "  /* fitted */\n",
       "  background-color: var(--sklearn-color-fitted-level-0);\n",
       "}\n",
       "\n",
       "/* on hover */\n",
       "#sk-container-id-1 div.sk-estimator:hover {\n",
       "  /* unfitted */\n",
       "  background-color: var(--sklearn-color-unfitted-level-2);\n",
       "}\n",
       "\n",
       "#sk-container-id-1 div.sk-estimator.fitted:hover {\n",
       "  /* fitted */\n",
       "  background-color: var(--sklearn-color-fitted-level-2);\n",
       "}\n",
       "\n",
       "/* Specification for estimator info (e.g. \"i\" and \"?\") */\n",
       "\n",
       "/* Common style for \"i\" and \"?\" */\n",
       "\n",
       ".sk-estimator-doc-link,\n",
       "a:link.sk-estimator-doc-link,\n",
       "a:visited.sk-estimator-doc-link {\n",
       "  float: right;\n",
       "  font-size: smaller;\n",
       "  line-height: 1em;\n",
       "  font-family: monospace;\n",
       "  background-color: var(--sklearn-color-background);\n",
       "  border-radius: 1em;\n",
       "  height: 1em;\n",
       "  width: 1em;\n",
       "  text-decoration: none !important;\n",
       "  margin-left: 0.5em;\n",
       "  text-align: center;\n",
       "  /* unfitted */\n",
       "  border: var(--sklearn-color-unfitted-level-1) 1pt solid;\n",
       "  color: var(--sklearn-color-unfitted-level-1);\n",
       "}\n",
       "\n",
       ".sk-estimator-doc-link.fitted,\n",
       "a:link.sk-estimator-doc-link.fitted,\n",
       "a:visited.sk-estimator-doc-link.fitted {\n",
       "  /* fitted */\n",
       "  border: var(--sklearn-color-fitted-level-1) 1pt solid;\n",
       "  color: var(--sklearn-color-fitted-level-1);\n",
       "}\n",
       "\n",
       "/* On hover */\n",
       "div.sk-estimator:hover .sk-estimator-doc-link:hover,\n",
       ".sk-estimator-doc-link:hover,\n",
       "div.sk-label-container:hover .sk-estimator-doc-link:hover,\n",
       ".sk-estimator-doc-link:hover {\n",
       "  /* unfitted */\n",
       "  background-color: var(--sklearn-color-unfitted-level-3);\n",
       "  color: var(--sklearn-color-background);\n",
       "  text-decoration: none;\n",
       "}\n",
       "\n",
       "div.sk-estimator.fitted:hover .sk-estimator-doc-link.fitted:hover,\n",
       ".sk-estimator-doc-link.fitted:hover,\n",
       "div.sk-label-container:hover .sk-estimator-doc-link.fitted:hover,\n",
       ".sk-estimator-doc-link.fitted:hover {\n",
       "  /* fitted */\n",
       "  background-color: var(--sklearn-color-fitted-level-3);\n",
       "  color: var(--sklearn-color-background);\n",
       "  text-decoration: none;\n",
       "}\n",
       "\n",
       "/* Span, style for the box shown on hovering the info icon */\n",
       ".sk-estimator-doc-link span {\n",
       "  display: none;\n",
       "  z-index: 9999;\n",
       "  position: relative;\n",
       "  font-weight: normal;\n",
       "  right: .2ex;\n",
       "  padding: .5ex;\n",
       "  margin: .5ex;\n",
       "  width: min-content;\n",
       "  min-width: 20ex;\n",
       "  max-width: 50ex;\n",
       "  color: var(--sklearn-color-text);\n",
       "  box-shadow: 2pt 2pt 4pt #999;\n",
       "  /* unfitted */\n",
       "  background: var(--sklearn-color-unfitted-level-0);\n",
       "  border: .5pt solid var(--sklearn-color-unfitted-level-3);\n",
       "}\n",
       "\n",
       ".sk-estimator-doc-link.fitted span {\n",
       "  /* fitted */\n",
       "  background: var(--sklearn-color-fitted-level-0);\n",
       "  border: var(--sklearn-color-fitted-level-3);\n",
       "}\n",
       "\n",
       ".sk-estimator-doc-link:hover span {\n",
       "  display: block;\n",
       "}\n",
       "\n",
       "/* \"?\"-specific style due to the `<a>` HTML tag */\n",
       "\n",
       "#sk-container-id-1 a.estimator_doc_link {\n",
       "  float: right;\n",
       "  font-size: 1rem;\n",
       "  line-height: 1em;\n",
       "  font-family: monospace;\n",
       "  background-color: var(--sklearn-color-background);\n",
       "  border-radius: 1rem;\n",
       "  height: 1rem;\n",
       "  width: 1rem;\n",
       "  text-decoration: none;\n",
       "  /* unfitted */\n",
       "  color: var(--sklearn-color-unfitted-level-1);\n",
       "  border: var(--sklearn-color-unfitted-level-1) 1pt solid;\n",
       "}\n",
       "\n",
       "#sk-container-id-1 a.estimator_doc_link.fitted {\n",
       "  /* fitted */\n",
       "  border: var(--sklearn-color-fitted-level-1) 1pt solid;\n",
       "  color: var(--sklearn-color-fitted-level-1);\n",
       "}\n",
       "\n",
       "/* On hover */\n",
       "#sk-container-id-1 a.estimator_doc_link:hover {\n",
       "  /* unfitted */\n",
       "  background-color: var(--sklearn-color-unfitted-level-3);\n",
       "  color: var(--sklearn-color-background);\n",
       "  text-decoration: none;\n",
       "}\n",
       "\n",
       "#sk-container-id-1 a.estimator_doc_link.fitted:hover {\n",
       "  /* fitted */\n",
       "  background-color: var(--sklearn-color-fitted-level-3);\n",
       "}\n",
       "</style><div id=\"sk-container-id-1\" class=\"sk-top-container\"><div class=\"sk-text-repr-fallback\"><pre>RandomForestClassifier(random_state=42)</pre><b>In a Jupyter environment, please rerun this cell to show the HTML representation or trust the notebook. <br />On GitHub, the HTML representation is unable to render, please try loading this page with nbviewer.org.</b></div><div class=\"sk-container\" hidden><div class=\"sk-item\"><div class=\"sk-estimator fitted sk-toggleable\"><input class=\"sk-toggleable__control sk-hidden--visually\" id=\"sk-estimator-id-1\" type=\"checkbox\" checked><label for=\"sk-estimator-id-1\" class=\"sk-toggleable__label fitted sk-toggleable__label-arrow\"><div><div>RandomForestClassifier</div></div><div><a class=\"sk-estimator-doc-link fitted\" rel=\"noreferrer\" target=\"_blank\" href=\"https://scikit-learn.org/1.6/modules/generated/sklearn.ensemble.RandomForestClassifier.html\">?<span>Documentation for RandomForestClassifier</span></a><span class=\"sk-estimator-doc-link fitted\">i<span>Fitted</span></span></div></label><div class=\"sk-toggleable__content fitted\"><pre>RandomForestClassifier(random_state=42)</pre></div> </div></div></div></div>"
      ],
      "text/plain": [
       "RandomForestClassifier(random_state=42)"
      ]
     },
     "execution_count": 18,
     "metadata": {},
     "output_type": "execute_result"
    }
   ],
   "source": [
    "# Import des bibliothèques nécessaires\n",
    "from sklearn.ensemble import RandomForestClassifier\n",
    "\n",
    "# Créer un modèle de Random Forest\n",
    "# Création du modèle de classification\n",
    "classifier = RandomForestClassifier(n_estimators=100, random_state=42)\n",
    "\n",
    "# Entraîner le modèle avec l'ensemble d'entraînement\n",
    "# Entraînement du modèle\n",
    "classifier.fit(X_train_scaled, y_train)"
   ]
  },
  {
   "cell_type": "markdown",
   "id": "c2ef6ac8",
   "metadata": {
    "id": "c2ef6ac8"
   },
   "source": [
    "## 6. Prédiction et Évaluation"
   ]
  },
  {
   "cell_type": "code",
   "execution_count": 19,
   "id": "b9fae5cc",
   "metadata": {
    "colab": {
     "base_uri": "https://localhost:8080/",
     "height": 663
    },
    "id": "b9fae5cc",
    "outputId": "02905819-22ff-44bf-c8cb-d17e0fa7abcd"
   },
   "outputs": [
    {
     "name": "stdout",
     "output_type": "stream",
     "text": [
      "Accuracy: 0.9707602339181286\n",
      "Rapport de classification:\n",
      "              precision    recall  f1-score   support\n",
      "\n",
      "           B       0.96      0.99      0.98       108\n",
      "           M       0.98      0.94      0.96        63\n",
      "\n",
      "    accuracy                           0.97       171\n",
      "   macro avg       0.97      0.96      0.97       171\n",
      "weighted avg       0.97      0.97      0.97       171\n",
      "\n"
     ]
    },
    {
     "data": {
      "image/png": "[encoded data removed]",
      "text/plain": [
       "<Figure size 640x480 with 2 Axes>"
      ]
     },
     "metadata": {},
     "output_type": "display_data"
    }
   ],
   "source": [
    "# Import des bibliothèques nécessaires\n",
    "from sklearn.metrics import accuracy_score, classification_report, confusion_matrix\n",
    "# Import des bibliothèques nécessaires\n",
    "import seaborn as sns\n",
    "# Import des bibliothèques nécessaires\n",
    "import matplotlib.pyplot as plt\n",
    "\n",
    "# Prédire sur l'ensemble de test\n",
    "# Prédictions sur les données de test\n",
    "y_pred = classifier.predict(X_test_scaled)\n",
    "\n",
    "# Calcul de l'accuracy\n",
    "# Évaluation du score de précision\n",
    "accuracy = accuracy_score(y_test, y_pred)\n",
    "print(\"Accuracy:\", accuracy)\n",
    "\n",
    "# Afficher le rapport de classification\n",
    "print(\"Rapport de classification:\")\n",
    "print(classification_report(y_test, y_pred, target_names=label_encoder.classes_))\n",
    "\n",
    "# Matrice de confusion\n",
    "conf_matrix = confusion_matrix(y_test, y_pred)\n",
    "sns.heatmap(conf_matrix, annot=True, fmt='d', cmap='Blues', xticklabels=label_encoder.classes_, yticklabels=label_encoder.classes_)\n",
    "plt.xlabel(\"Prédictions\")\n",
    "plt.ylabel(\"Vraies étiquettes\")\n",
    "plt.title(\"Matrice de confusion\")\n",
    "plt.show()"
   ]
  },
  {
   "cell_type": "markdown",
   "id": "46ef5e25",
   "metadata": {},
   "source": [
    "\n",
    "## Pourquoi diviser les données en **train** et **test** ?\n",
    "\n",
    "Quand on construit un modèle, il est **entraîné** sur une partie des données (`train set`).  \n",
    "Mais pour savoir s’il est bon, il faut le tester sur des données qu’il n’a **jamais vues** (`test set`).  \n",
    "Sinon, on risque de tomber dans le piège du **sur-apprentissage** (overfitting) : le modèle apprend trop bien... mais seulement sur les données qu'il connaît !\n",
    "\n",
    "### Illustration :\n",
    "\n",
    "| Jeu de données | Utilisation | Contenu |\n",
    "|----------------|-------------|---------|\n",
    "| `X_train` / `y_train` | Entraînement | Le modèle apprend ici |\n",
    "| `X_test` / `y_test` | Évaluation | On vérifie que le modèle généralise bien |\n",
    "\n",
    "✏️ **À retenir** : toujours garder une partie des données de côté pour tester le modèle de manière réaliste.\n"
   ]
  },
  {
   "cell_type": "markdown",
   "id": "5000dcda",
   "metadata": {},
   "source": [
    "\n",
    "## Quelles sont les **métriques** pour évaluer un modèle de classification ?\n",
    "\n",
    "Une fois qu’on a les prédictions, on peut mesurer la qualité avec :\n",
    "\n",
    "- **Accuracy (précision globale)** : % de bonnes prédictions\n",
    "- **Precision** : parmi les positifs prédits, combien sont vraiment positifs ?\n",
    "- **Recall (rappel)** : parmi les vrais positifs, combien ont été bien détectés ?\n",
    "- **F1-score** : moyenne harmonique de la précision et du rappel\n",
    "\n",
    "Ces scores sont résumés dans la fonction `classification_report()` de `sklearn`.\n"
   ]
  },
  {
   "cell_type": "markdown",
   "id": "74c4a36c",
   "metadata": {},
   "source": [
    "\n",
    "## Comment lire une **matrice de confusion** ?\n",
    "\n",
    "C’est un tableau qui compare les prédictions avec la réalité.\n",
    "\n",
    "Exemple :\n",
    "\n",
    "|                  | Prédit : Bénin | Prédit : Malin |\n",
    "|------------------|----------------|----------------|\n",
    "| Réel : Bénin     | Vrai négatif   | Faux positif   |\n",
    "| Réel : Malin     | Faux négatif   | Vrai positif   |\n",
    "\n",
    "- **Vrai Positif (VP)** : le modèle a correctement prédit \"Malin\"\n",
    "- **Faux Positif (FP)** : il a prédit \"Malin\" mais c’était \"Bénin\"\n",
    "- **Faux Négatif (FN)** : il a prédit \"Bénin\" mais c’était \"Malin\"\n",
    "- **Vrai Négatif (VN)** : il a bien prédit \"Bénin\"\n",
    "\n",
    "✏️ Interprétez chaque case pour comprendre les erreurs possibles de votre modèle.\n"
   ]
  },
  {
   "cell_type": "markdown",
   "id": "516ee762",
   "metadata": {},
   "source": [
    "\n",
    "## Aller plus loin : Optimisation et validation croisée\n",
    "\n",
    "Une fois que notre modèle fonctionne, on peut aller plus loin en améliorant sa **performance** grâce à :\n",
    "- **Validation croisée** (`cross-validation`) : tester le modèle sur plusieurs découpages des données\n",
    "- **Recherche de paramètres optimaux** (`GridSearchCV`) : tester plusieurs combinaisons d'options du modèle\n",
    "\n",
    "### Pourquoi c’est important ?\n",
    "Tous les modèles ont des **paramètres internes** (appelés *hyperparamètres*) qui influencent leur efficacité.  \n",
    "Avec `GridSearchCV`, on peut **tester plusieurs versions** du modèle et garder celle qui donne le meilleur résultat.\n",
    "\n"
   ]
  },
  {
   "cell_type": "code",
   "execution_count": null,
   "id": "cacbc033",
   "metadata": {},
   "outputs": [],
   "source": [
    "\n",
    "from sklearn.ensemble import RandomForestClassifier\n",
    "from sklearn.model_selection import GridSearchCV, cross_val_score\n",
    "\n",
    "# Exemple de grille de recherche de paramètres\n",
    "param_grid = {\n",
    "    'n_estimators': [50, 100, 150],\n",
    "    'max_depth': [None, 5, 10],\n",
    "}\n",
    "\n",
    "# Création du modèle de base\n",
    "rf = RandomForestClassifier(random_state=42)\n",
    "\n",
    "# Recherche par validation croisée\n",
    "grid_search = GridSearchCV(estimator=rf, param_grid=param_grid, cv=5, scoring='accuracy')\n",
    "grid_search.fit(X_train, y_train)\n",
    "\n",
    "# Meilleurs paramètres trouvés\n",
    "print(\"Meilleurs paramètres :\", grid_search.best_params_)\n",
    "print(\"Score sur validation croisée :\", grid_search.best_score_)\n"
   ]
  },
  {
   "cell_type": "markdown",
   "id": "27668e10",
   "metadata": {},
   "source": [
    "\n",
    "### Validation croisée seule (sans recherche de paramètres)\n",
    "On peut aussi simplement évaluer un modèle en le testant sur plusieurs **sous-ensembles** des données.\n"
   ]
  },
  {
   "cell_type": "code",
   "execution_count": null,
   "id": "915587b8",
   "metadata": {},
   "outputs": [],
   "source": [
    "\n",
    "# Score moyen sur 5 plis (5-fold cross-validation)\n",
    "scores = cross_val_score(rf, X, y, cv=5, scoring='accuracy')\n",
    "print(\"Scores par pli :\", scores)\n",
    "print(\"Score moyen :\", scores.mean())\n"
   ]
  },
  {
   "cell_type": "markdown",
   "id": "888fa537",
   "metadata": {},
   "source": [
    "\n",
    "✏️ **Exercice** : essayez avec d'autres modèles (`LogisticRegression`, `KNeighborsClassifier`, etc.) et comparez les résultats.\n"
   ]
  },
  {
   "cell_type": "markdown",
   "id": "d14b9d31",
   "metadata": {},
   "source": [
    "\n",
    "## Bonus : Autres modèles de Machine Learning à connaître\n",
    "\n",
    "Il existe plusieurs types de modèles pour faire de la **classification**. Voici deux autres algorithmes très connus et faciles à utiliser.\n"
   ]
  },
  {
   "cell_type": "markdown",
   "id": "fb323eae",
   "metadata": {},
   "source": [
    "\n",
    "### Régression Logistique\n",
    "\n",
    "Contrairement à son nom, c'est un **modèle de classification**, pas de régression !  \n",
    "Elle est souvent utilisée pour **prédire une probabilité d'appartenance à une classe** (ex : malade ou non).\n",
    "\n",
    "Elle fonctionne bien quand les classes sont **linéairement séparables**.\n",
    "\n",
    "Exemple d'utilisation :\n"
   ]
  },
  {
   "cell_type": "code",
   "execution_count": null,
   "id": "d053cca5",
   "metadata": {},
   "outputs": [],
   "source": [
    "\n",
    "from sklearn.linear_model import LogisticRegression\n",
    "\n",
    "log_reg = LogisticRegression()\n",
    "log_reg.fit(X_train, y_train)\n",
    "y_pred_log = log_reg.predict(X_test)\n",
    "\n",
    "from sklearn.metrics import accuracy_score\n",
    "print(\"Accuracy (Régression logistique) :\", accuracy_score(y_test, y_pred_log))\n"
   ]
  },
  {
   "cell_type": "markdown",
   "id": "0286fe99",
   "metadata": {},
   "source": [
    "\n",
    "### K plus proches voisins (KNN)\n",
    "\n",
    "Le modèle **KNN** (K Nearest Neighbors) classe un nouvel exemple en regardant les **K exemples les plus proches** dans les données d'entraînement.\n",
    "\n",
    "Il est simple, mais peut être lent si les données sont nombreuses.\n",
    "\n",
    "Exemple d'utilisation :\n"
   ]
  },
  {
   "cell_type": "code",
   "execution_count": null,
   "id": "47171c8e",
   "metadata": {},
   "outputs": [],
   "source": [
    "\n",
    "from sklearn.neighbors import KNeighborsClassifier\n",
    "\n",
    "knn = KNeighborsClassifier(n_neighbors=5)\n",
    "knn.fit(X_train, y_train)\n",
    "y_pred_knn = knn.predict(X_test)\n",
    "\n",
    "print(\"Accuracy (KNN) :\", accuracy_score(y_test, y_pred_knn))\n"
   ]
  },
  {
   "cell_type": "markdown",
   "id": "c4b97176",
   "metadata": {},
   "source": [
    "\n",
    "✏️ **Exercice** : Modifiez la valeur de `n_neighbors` et observez l'effet sur la précision.\n",
    "\n",
    "---\n",
    "\n",
    "🎓 Ces deux modèles sont très utilisés comme points de départ, car :\n",
    "- Ils sont simples à comprendre et à implémenter\n",
    "- Ils permettent de comparer différentes stratégies de modélisation\n",
    "\n",
    "N'hésitez pas à les tester et à comparer leurs résultats avec le modèle Random Forest vu plus tôt.\n"
   ]
  },
  {
   "cell_type": "markdown",
   "id": "a275a18d",
   "metadata": {},
   "source": [
    "\n",
    "## Introduction aux Réseaux de Neurones (ANN - Artificial Neural Network)\n",
    "\n",
    "Les **réseaux de neurones** sont des modèles inspirés du fonctionnement du cerveau humain.  \n",
    "Ils sont constitués de **couches de neurones artificiels** qui apprennent à détecter des motifs dans les données.\n",
    "\n",
    "Dans leur forme la plus simple (appelée **perceptron multicouche**), ils peuvent déjà être très efficaces.\n",
    "\n",
    "On utilise ici `MLPClassifier` (Multi-Layer Perceptron) de `scikit-learn`.\n"
   ]
  },
  {
   "cell_type": "code",
   "execution_count": null,
   "id": "237a9b53",
   "metadata": {},
   "outputs": [],
   "source": [
    "\n",
    "from sklearn.neural_network import MLPClassifier\n",
    "\n",
    "# Réseau de neurones simple avec une couche cachée de 10 neurones\n",
    "mlp = MLPClassifier(hidden_layer_sizes=(10,), max_iter=1000, random_state=42)\n",
    "mlp.fit(X_train, y_train)\n",
    "y_pred_mlp = mlp.predict(X_test)\n",
    "\n",
    "print(\"Accuracy (Réseau de neurones) :\", accuracy_score(y_test, y_pred_mlp))\n"
   ]
  },
  {
   "cell_type": "markdown",
   "id": "c988127d",
   "metadata": {},
   "source": [
    "\n",
    "### Comment fonctionne ce réseau ?\n",
    "\n",
    "- `hidden_layer_sizes=(10,)` signifie qu’il y a **1 couche cachée** avec **10 neurones**\n",
    "- `max_iter=1000` définit le nombre d’itérations (le nombre de fois où le réseau essaie d’apprendre)\n",
    "\n",
    "Chaque neurone combine les entrées avec des **poids** puis applique une **fonction d'activation** (souvent ReLU ou sigmoïde).\n",
    "\n",
    "Le modèle ajuste ses poids pour **minimiser l’erreur** entre les prédictions et la réalité.\n",
    "\n",
    "---\n",
    "\n",
    "✏️ **Exercice** : Essayez d’augmenter le nombre de neurones ou de couches (`hidden_layer_sizes=(100,)`, `(50, 20)`, etc.) et observez l’effet.\n",
    "\n",
    "⚠️ Les réseaux de neurones sont puissants, mais demandent souvent plus de données et de temps de calcul.\n",
    "\n"
   ]
  }
 ],
 "metadata": {
  "colab": {
   "provenance": []
  },
  "kernelspec": {
   "display_name": "Python 3 (ipykernel)",
   "language": "python",
   "name": "python3"
  },
  "language_info": {
   "codemirror_mode": {
    "name": "ipython",
    "version": 3
   },
   "file_extension": ".py",
   "mimetype": "text/x-python",
   "name": "python",
   "nbconvert_exporter": "python",
   "pygments_lexer": "ipython3",
   "version": "3.11.5"
  }
 },
 "nbformat": 4,
 "nbformat_minor": 5
}
