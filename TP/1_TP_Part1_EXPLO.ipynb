{
 "cells": [
  {
   "cell_type": "markdown",
   "id": "b1c280fa",
   "metadata": {},
   "source": [
    "# 🐍 Formation Python Express – Niveau Débutant 🔰\n",
    "## Objectif : Comprendre et manipuler un notebook de Machine Learning"
   ]
  },
  {
   "cell_type": "markdown",
   "id": "bb05031d",
   "metadata": {},
   "source": [
    "\n",
    "Bienvenue dans cette **formation accélérée en Python** ! 👋\n",
    "\n",
    "Ce notebook s’adresse à **des débutants complets**, c’est-à-dire à toute personne qui :\n",
    "- n’a jamais programmé auparavant, **ou**\n",
    "- a quelques notions mais veut apprendre Python pour la **data science et le machine learning**.\n",
    "\n",
    "🎯 **But final** : vous serez capables de lire et comprendre un notebook Python de Machine Learning, comme celui utilisé en TD.\n",
    "\n",
    "---\n",
    "\n",
    "## 🧭 Pourquoi apprendre Python pour le Machine Learning ?\n",
    "\n",
    "- **Python est un langage simple** à lire, écrire et comprendre.\n",
    "- Il est très utilisé en science des données, IA, médecine, bioinformatique, etc.\n",
    "- Des milliers d’outils et bibliothèques puissantes existent (pandas, numpy, sklearn…).\n",
    "\n",
    "---\n",
    "\n",
    "## 🧑‍💻 Comment utiliser ce notebook ?\n",
    "- Chaque cellule grise (comme celle-ci) est une **explication**.\n",
    "- Chaque cellule de code peut être **exécutée** (cliquez dedans puis sur ▶ ou appuyez sur `Shift+Entrée`).\n",
    "- Vous pouvez aussi **modifier le code** pour expérimenter.\n",
    "\n",
    "C’est en testant qu’on apprend ! 💪\n",
    "\n",
    "---\n"
   ]
  },
  {
   "cell_type": "markdown",
   "id": "3cb3bcb8",
   "metadata": {},
   "source": [
    "## 🧱 Chapitre 1 – Les bases de Python"
   ]
  },
  {
   "cell_type": "markdown",
   "id": "534e94da",
   "metadata": {},
   "source": [
    "\n",
    "### 🧠 Qu'est-ce que la programmation ?\n",
    "\n",
    "La programmation consiste à **donner des instructions à l’ordinateur**, sous forme d’un langage compréhensible.  \n",
    "Python est un de ces langages : il permet de décrire **ce que l’on veut faire** avec les données.\n",
    "\n",
    "Par exemple : “Prends ce fichier CSV, nettoie-le, puis entraîne un modèle dessus.”\n",
    "\n",
    "---\n",
    "### 📦 1.1 – Les variables\n",
    "\n",
    "Une **variable**, c’est comme une boîte dans laquelle on range une information.  \n",
    "Chaque boîte a un nom, et contient une valeur.\n",
    "\n",
    "Par exemple :\n"
   ]
  },
  {
   "cell_type": "code",
   "execution_count": null,
   "id": "72ae999f",
   "metadata": {},
   "outputs": [],
   "source": [
    "\n",
    "nom = \"Alice\"     # on range le texte \"Alice\" dans une boîte appelée 'nom'\n",
    "age = 25          # on range le nombre 25 dans une boîte appelée 'age'\n",
    "\n",
    "print(nom)\n",
    "print(age)\n"
   ]
  },
  {
   "cell_type": "markdown",
   "id": "a5af8a2e",
   "metadata": {},
   "source": [
    "\n",
    "Vous pouvez créer autant de variables que vous voulez. Elles peuvent contenir :\n",
    "- des nombres (`int`, `float`)\n",
    "- du texte (`str`)\n",
    "- des valeurs logiques (`bool` : `True` ou `False`)\n"
   ]
  },
  {
   "cell_type": "code",
   "execution_count": null,
   "id": "c69e6b5a",
   "metadata": {},
   "outputs": [],
   "source": [
    "\n",
    "taille = 1.70            # nombre décimal (float)\n",
    "est_inscrit = True       # booléen (vrai/faux)\n",
    "\n",
    "print(\"Taille :\", taille)\n",
    "print(\"Inscription validée :\", est_inscrit)\n"
   ]
  },
  {
   "cell_type": "markdown",
   "id": "a08a66e9",
   "metadata": {},
   "source": [
    "\n",
    "### 🧪 1.2 – Types de données\n",
    "\n",
    "Chaque variable a un **type**. Python le devine automatiquement, mais on peut le vérifier :\n"
   ]
  },
  {
   "cell_type": "code",
   "execution_count": null,
   "id": "c5e9599e",
   "metadata": {},
   "outputs": [],
   "source": [
    "\n",
    "print(type(nom))         # <class 'str'>\n",
    "print(type(age))         # <class 'int'>\n",
    "print(type(taille))      # <class 'float'>\n",
    "print(type(est_inscrit)) # <class 'bool'>\n"
   ]
  },
  {
   "cell_type": "markdown",
   "id": "e50671ff",
   "metadata": {},
   "source": [
    "\n",
    "### ➕ 1.3 – Faire des calculs\n",
    "\n",
    "Python peut être utilisé comme une **calculatrice** :\n"
   ]
  },
  {
   "cell_type": "code",
   "execution_count": null,
   "id": "2c4c5bf5",
   "metadata": {},
   "outputs": [],
   "source": [
    "\n",
    "a = 10\n",
    "b = 3\n",
    "\n",
    "print(\"Addition :\", a + b)\n",
    "print(\"Soustraction :\", a - b)\n",
    "print(\"Multiplication :\", a * b)\n",
    "print(\"Division :\", a / b)\n",
    "print(\"Division entière :\", a // b)\n",
    "print(\"Reste (modulo) :\", a % b)\n",
    "print(\"Puissance (a^b) :\", a ** b)\n"
   ]
  },
  {
   "cell_type": "markdown",
   "id": "b7a393f0",
   "metadata": {},
   "source": [
    "\n",
    "---\n",
    "\n",
    "### 📚 1.4 – Listes : regrouper plusieurs valeurs\n",
    "\n",
    "Une **liste**, c’est comme une étagère contenant plusieurs objets (des nombres, du texte, etc.).\n",
    "\n",
    "On utilise les crochets `[]` pour créer une liste :\n"
   ]
  },
  {
   "cell_type": "code",
   "execution_count": null,
   "id": "edaa1f8f",
   "metadata": {},
   "outputs": [],
   "source": [
    "\n",
    "fruits = [\"pomme\", \"banane\", \"kiwi\"]\n",
    "\n",
    "print(\"Premier fruit :\", fruits[0])   # Les indices commencent à 0\n",
    "print(\"Dernier fruit :\", fruits[-1])  # L'indice -1 = dernier élément\n",
    "\n",
    "# Ajouter un fruit à la fin de la liste\n",
    "fruits.append(\"orange\")\n",
    "print(\"Liste mise à jour :\", fruits)\n"
   ]
  },
  {
   "cell_type": "markdown",
   "id": "eb40870a",
   "metadata": {},
   "source": [
    "\n",
    "### 🔑 1.5 – Dictionnaires : associer des informations\n",
    "\n",
    "Un **dictionnaire** permet d’associer des noms à des valeurs, un peu comme un formulaire ou un tableau.\n",
    "\n",
    "On utilise les accolades `{}` :\n"
   ]
  },
  {
   "cell_type": "code",
   "execution_count": null,
   "id": "25c63a9f",
   "metadata": {},
   "outputs": [],
   "source": [
    "\n",
    "etudiant = {\n",
    "    \"nom\": \"Alice\",\n",
    "    \"age\": 22,\n",
    "    \"ville\": \"Paris\"\n",
    "}\n",
    "\n",
    "# Accéder à une information grâce à sa clé\n",
    "print(\"Nom :\", etudiant[\"nom\"])\n",
    "\n",
    "# Ajouter une nouvelle information\n",
    "etudiant[\"email\"] = \"alice@email.com\"\n",
    "print(etudiant)\n"
   ]
  }
 ],
 "metadata": {},
 "nbformat": 4,
 "nbformat_minor": 5
}
